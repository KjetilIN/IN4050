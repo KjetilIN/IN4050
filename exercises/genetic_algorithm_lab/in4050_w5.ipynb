{
 "cells": [
  {
   "cell_type": "markdown",
   "metadata": {},
   "source": [
    "# IN4050 - Genetic Algorithm\n",
    "## Representations"
   ]
  },
  {
   "cell_type": "markdown",
   "metadata": {},
   "source": [
    "### 1. ![Naming_Question](EA_Terms.png)"
   ]
  },
  {
   "cell_type": "markdown",
   "metadata": {},
   "source": [
    "Name the terms shown in the picture above."
   ]
  },
  {
   "cell_type": "markdown",
   "metadata": {},
   "source": [
    "### Solution:\n",
    "- **A:** Locus - the position of the gene - aka the index\n",
    "- **B:** Allele - Possible values for the given gene\n",
    "- **C:** Gene - one element in the array\n",
    "- **D:** Genotype - a set of gene values\n",
    "- **E:** Phenotype - what could be built based on the genotype"
   ]
  },
  {
   "cell_type": "markdown",
   "metadata": {},
   "source": [
    "### 2. Mention some of the most common representations of genomes."
   ]
  },
  {
   "cell_type": "markdown",
   "metadata": {},
   "source": [
    "### Solution: \n",
    "\n",
    "- We want to make it as simple as possible for representing a genotypes. \n",
    "- Some ways to represent a genotype is: \n",
    "  - Array with 0s and 1s. The length of the array would be equal to the amount of genes. 0s represent the absence of a gene, while 1s represent the opposite.\n",
    "  - Instead of array, use sequence of binary numbers. Same concept and uses less memory.\n",
    "  - Instead of 1s and 0s, use sequence/array of characters. represents more information for each gene, but uses more memory. "
   ]
  },
  {
   "cell_type": "markdown",
   "metadata": {},
   "source": [
    "### 3. Perform a mutation operation on the representations given below.\n",
    "\n",
    "binary = $[1, 0, 1, 1]$;\n",
    "integer = $[4, 2, 4, 1]$;\n",
    "real_valued = $[2.53, 1.42, 3.14, 1.68]$;\n",
    "permutation = $[3, 4, 1, 2]$"
   ]
  },
  {
   "cell_type": "code",
   "execution_count": 32,
   "metadata": {},
   "outputs": [
    {
     "name": "stdout",
     "output_type": "stream",
     "text": [
      "Original: [1, 0, 1, 1], Mutated: [1, 0, 1, 0]\n",
      "\n",
      "Original: [4, 2, 4, 1], Mutated: [4, 2, 1, 1]\n",
      "\n",
      "Original: [2.53, 1.42, 3.14, 1.68], Mutated: [2.53, 1.42, 3.14, 2.66]\n",
      "\n",
      "Original: [3, 4, 1, 2], Mutated: [2, 4, 1, 3]\n",
      "\n"
     ]
    }
   ],
   "source": [
    "import random\n",
    "import numpy as np\n",
    "\n",
    "# Arrays \n",
    "binary = [1, 0, 1, 1]\n",
    "integer = [4, 2, 4, 1]\n",
    "real_valued = [2.53, 1.42, 3.14, 1.68]\n",
    "permutation = [3, 4, 1, 2]\n",
    "\n",
    "# Method for printing the mutation\n",
    "def print_mutation(original, mutated):\n",
    "    print(f\"Original: {original}, Mutated: {mutated}\\n\")\n",
    "\n",
    "# Binary mutation\n",
    "# 1. Select a random index\n",
    "# 2. \"Flop\" the binary value to mutate it \n",
    "random_index = random.sample(range(len(binary)), 1)[0]\n",
    "binary_cpy = list(binary)\n",
    "if binary_cpy[random_index] == 0:\n",
    "    binary_cpy[random_index] = 1\n",
    "else:\n",
    "    binary_cpy[random_index] = 0\n",
    "\n",
    "print_mutation(binary, binary_cpy)\n",
    "\n",
    "\n",
    "# Real valued or float mutation \n",
    "# 1. Select a random index\n",
    "# 2. Set the value of the item at the index, from a uniform distribution from the array\n",
    "#   - For real values, a discrete distribution  \n",
    "#   - For floating points, a simple uniform distribution \n",
    "\n",
    "random_index = random.sample(range(len(integer)), 1)[0]\n",
    "integer_cpy = list(integer)\n",
    "integer_cpy[random_index] = np.random.randint(1,4)\n",
    "print_mutation(integer, integer_cpy)\n",
    "\n",
    "\n",
    "random_index = random.sample(range(len(real_valued)), 1)[0]\n",
    "real_valued_cpy = list(real_valued)\n",
    "high = max(real_valued_cpy)\n",
    "low = min(real_valued_cpy)\n",
    "real_valued_cpy[random_index] = round(np.random.uniform(low, high), 2)\n",
    "print_mutation(real_valued, real_valued_cpy)\n",
    "\n",
    "\n",
    "# For a permutation: \n",
    "# - Swap two values\n",
    "\n",
    "i, j = random.sample(range(len(real_valued)), 2)\n",
    "permutation_cpy = list(permutation)\n",
    "temp = permutation_cpy[i]\n",
    "permutation_cpy[i] = permutation_cpy[j]\n",
    "permutation_cpy[j] = temp\n",
    "print_mutation(permutation, permutation_cpy)\n"
   ]
  },
  {
   "cell_type": "markdown",
   "metadata": {},
   "source": [
    "### 4. Given the sequences (2,4,7,1,3,6,8,9,5) and (5,9,8,6,2,4,1,3,7). Implement these algorithms to create a new pair of solutions: "
   ]
  },
  {
   "cell_type": "markdown",
   "metadata": {},
   "source": [
    "#### a. Partially mapped crossover (PMX)"
   ]
  },
  {
   "cell_type": "code",
   "execution_count": 46,
   "metadata": {},
   "outputs": [],
   "source": [
    "# Add your solution here\n",
    "def pmx_pair(a, b):\n",
    "    assert(len(a) == 9)\n",
    "    assert(len(b) == 9)\n",
    "\n",
    "    # Create children from the given parents \n",
    "    c1 = list(a)\n",
    "    c2 = list(b)\n",
    "\n",
    "    # Replace the middle part with the middle part of the other parent\n",
    "    c1[2:6] = b[2:6]\n",
    "    c2[2:6] = a[2:6]\n",
    "\n",
    "    # Fix conflicts for c1 (using a -> b mapping for swapped segment)\n",
    "    for i in range(2, 6):\n",
    "        if b[i] in c1[0:2] + c1[6:]:\n",
    "            # Find the mapped value from the swapped section\n",
    "            swap_val = b[i]\n",
    "            while swap_val in c1[2:6]:\n",
    "                swap_val = a[b.index(swap_val)]\n",
    "            # Replace the duplicate value\n",
    "            c1[c1.index(b[i])] = swap_val\n",
    "\n",
    "    # Fix conflicts for c2 (using b -> a mapping for swapped segment)\n",
    "    for i in range(2, 6):\n",
    "        if a[i] in c2[0:2] + c2[6:]:\n",
    "            # Find the mapped value from the swapped section\n",
    "            swap_val = a[i]\n",
    "            while swap_val in c2[2:6]:\n",
    "                swap_val = b[a.index(swap_val)]\n",
    "            # Replace the duplicate value\n",
    "            c2[c2.index(a[i])] = swap_val\n",
    "\n",
    "\n",
    "    return c1, c2\n"
   ]
  },
  {
   "cell_type": "markdown",
   "metadata": {},
   "source": [
    "#### b. Order crossover"
   ]
  },
  {
   "cell_type": "code",
   "execution_count": 11,
   "metadata": {},
   "outputs": [],
   "source": [
    "# Add your solution here\n",
    "def order_crossover_pair(a, b):\n",
    "    assert(len(a) == 9)\n",
    "    assert(len(b) == 9)\n",
    "\n",
    "    # Create children from the given parents \n",
    "    c1 = list(a)\n",
    "    c2 = list(b)\n",
    "\n",
    "    return c1, c2"
   ]
  },
  {
   "cell_type": "markdown",
   "metadata": {},
   "source": [
    "#### c. Cycle crossover"
   ]
  },
  {
   "cell_type": "code",
   "execution_count": 10,
   "metadata": {},
   "outputs": [],
   "source": [
    "# Add your solution here"
   ]
  },
  {
   "cell_type": "markdown",
   "metadata": {},
   "source": [
    "#### Test crossovers"
   ]
  },
  {
   "cell_type": "code",
   "execution_count": 47,
   "metadata": {},
   "outputs": [
    {
     "ename": "NameError",
     "evalue": "name 'order_crossover_pair' is not defined",
     "output_type": "error",
     "traceback": [
      "\u001b[0;31m---------------------------------------------------------------------------\u001b[0m",
      "\u001b[0;31mNameError\u001b[0m                                 Traceback (most recent call last)",
      "Cell \u001b[0;32mIn[47], line 5\u001b[0m\n\u001b[1;32m      2\u001b[0m b \u001b[38;5;241m=\u001b[39m [\u001b[38;5;241m5\u001b[39m, \u001b[38;5;241m9\u001b[39m, \u001b[38;5;241m8\u001b[39m, \u001b[38;5;241m6\u001b[39m, \u001b[38;5;241m2\u001b[39m, \u001b[38;5;241m4\u001b[39m, \u001b[38;5;241m1\u001b[39m, \u001b[38;5;241m3\u001b[39m, \u001b[38;5;241m7\u001b[39m]\n\u001b[1;32m      4\u001b[0m c, d \u001b[38;5;241m=\u001b[39m pmx_pair(a, b)\n\u001b[0;32m----> 5\u001b[0m e, f \u001b[38;5;241m=\u001b[39m \u001b[43morder_crossover_pair\u001b[49m(a, b)\n\u001b[1;32m      6\u001b[0m g, h \u001b[38;5;241m=\u001b[39m cycle_crossover_pair(a, b)\n\u001b[1;32m      7\u001b[0m \u001b[38;5;28mprint\u001b[39m(\u001b[38;5;124mf\u001b[39m\u001b[38;5;124m\"\u001b[39m\u001b[38;5;124mParents: \u001b[39m\u001b[38;5;132;01m{\u001b[39;00ma\u001b[38;5;132;01m}\u001b[39;00m\u001b[38;5;124m and \u001b[39m\u001b[38;5;132;01m{\u001b[39;00mb\u001b[38;5;132;01m}\u001b[39;00m\u001b[38;5;124m\"\u001b[39m)\n",
      "\u001b[0;31mNameError\u001b[0m: name 'order_crossover_pair' is not defined"
     ]
    }
   ],
   "source": [
    "a = [2, 4, 7, 1, 3, 6, 8, 9, 5]\n",
    "b = [5, 9, 8, 6, 2, 4, 1, 3, 7]\n",
    "\n",
    "c, d = pmx_pair(a, b)\n",
    "e, f = order_crossover_pair(a, b)\n",
    "g, h = cycle_crossover_pair(a, b)\n",
    "print(f\"Parents: {a} and {b}\")\n",
    "print(f\"Children after PMX: {c} and {d}\")\n",
    "print(f\"Children after Order Crossover: {e} and {f}\")\n",
    "print(f\"Children after Cycle Crossover: {g} and {h}\")"
   ]
  }
 ],
 "metadata": {
  "kernelspec": {
   "display_name": "Python 3",
   "language": "python",
   "name": "python3"
  },
  "language_info": {
   "codemirror_mode": {
    "name": "ipython",
    "version": 3
   },
   "file_extension": ".py",
   "mimetype": "text/x-python",
   "name": "python",
   "nbconvert_exporter": "python",
   "pygments_lexer": "ipython3",
   "version": "3.10.12"
  }
 },
 "nbformat": 4,
 "nbformat_minor": 2
}
