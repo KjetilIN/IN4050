{
 "cells": [
  {
   "cell_type": "markdown",
   "metadata": {},
   "source": [
    "### 1. Given the function $ f(x) = -x^{4} + 2x^{3} + 2x^{2} - x $ and it's derivative $f'(x) = {- 4 x^3 + 6 x^2 + 4 x - 1}$"
   ]
  },
  {
   "cell_type": "code",
   "execution_count": null,
   "metadata": {},
   "outputs": [],
   "source": [
    "# Standard import and functions\n",
    "import numpy as np\n",
    "import matplotlib.pyplot as plt\n",
    "\n",
    "def f(x):\n",
    "    return -np.power(x, 4) + 2 * np.power(x, 3) + 2 * np.power(x, 2) - x\n",
    "\n",
    "def df(x):\n",
    "    return -4 * np.power(x, 3) + 6 * np.power(x, 2) + 4 * x - 1"
   ]
  },
  {
   "cell_type": "markdown",
   "metadata": {},
   "source": [
    "#### a. Plot the function, and its gradient (derivative) from $x = -2$ to $x = 3$"
   ]
  },
  {
   "cell_type": "code",
   "execution_count": 26,
   "metadata": {},
   "outputs": [
    {
     "data": {
      "image/png": "[encoded data removed]",
      "text/plain": [
       "<Figure size 640x480 with 1 Axes>"
      ]
     },
     "metadata": {},
     "output_type": "display_data"
    }
   ],
   "source": [
    "# Generate list of numbers that we want to plot\n",
    "x = np.linspace(-2, 3, 100)\n",
    "\n",
    "# Plotting the functions \n",
    "plt.plot(x, f(x), label=\"F(x)\")\n",
    "plt.plot(x, df(x), label=\"F'(x)\")\n",
    "plt.legend()\n",
    "plt.show()"
   ]
  },
  {
   "cell_type": "markdown",
   "metadata": {},
   "source": [
    "#### b. Maximize using gradient ascent. You can try step size 0.1 and start somewhere in the range $[-2, 3]$. "
   ]
  },
  {
   "cell_type": "markdown",
   "metadata": {},
   "source": [
    "Gradient ascent: $x_{(k+1)} = x_{(k)} + \\gamma \\nabla f(x_{(k)})$"
   ]
  },
  {
   "cell_type": "code",
   "execution_count": 39,
   "metadata": {},
   "outputs": [
    {
     "name": "stdout",
     "output_type": "stream",
     "text": [
      "F(x)=-0.0412559661060096, x=0.0456, F'(x)=-0.544\n",
      "F(x)=0.03730648264847646, x=-0.034950311526400005, F'(x)=-0.805503115264\n",
      "F(x)=0.18510587576275023, x=-0.14818044450989415, F'(x)=-1.1323013298349416\n",
      "F(x)=0.4069841583747732, x=-0.29297669029986284, F'(x)=-1.447962457899687\n",
      "F(x)=0.6300399615169315, x=-0.4486070601306734, F'(x)=-1.5563036983081056\n",
      "F(x)=0.7445501439771405, x=-0.571188345260817, F'(x)=-1.2258128513014355\n",
      "F(x)=0.7660873286305032, x=-0.6293685292660368, F'(x)=-0.5818018400521985\n",
      "F(x)=0.7672806769620255, x=-0.6437347491170503, F'(x)=-0.1436621985101345\n",
      "F(x)=0.7673068320276528, x=-0.6458879553744034, F'(x)=-0.021532062573530464\n",
      "Final X: -0.6458879553744034 Y: 0.7673068320276528\n"
     ]
    }
   ],
   "source": [
    "# Step size and starting x and Y values \n",
    "gamma = 0.1\n",
    "x = 0.1\n",
    "y = f(x)\n",
    "\n",
    "# Gradient decent while the derivative is bigger then a constant epsilon\n",
    "eps = 10e-3\n",
    "\n",
    "# while loop\n",
    "while(np.abs(df(x)) > eps):\n",
    "    df_x = df(x)\n",
    "    x+= gamma*df(x)\n",
    "    y = f(x)\n",
    "    print(f'F(x)={y}, x={x}, F\\'(x)={df_x}')\n",
    "\n",
    "\n",
    "print(\"Final X: \" + str(x) + \" Y: \" + str(y))\n"
   ]
  },
  {
   "cell_type": "markdown",
   "metadata": {},
   "source": [
    "##### How does the choice of starting point and step size affect the algorithm's performance?\n",
    "\n",
    "##### Is there a starting point where the algorithm would not even be able to find a local maximum?"
   ]
  },
  {
   "cell_type": "code",
   "execution_count": null,
   "metadata": {},
   "outputs": [],
   "source": [
    "# Add your solution here"
   ]
  },
  {
   "cell_type": "markdown",
   "metadata": {},
   "source": [
    "#### c. Assume that we are only interested in maxima of $f(x)$, where $-2 \\leq x \\leq 3$, and x increases in step length of 0.5 ($\\Delta x = 0.5$). Perform an exhaustive search to maximize $f(x)$ and plot the result"
   ]
  },
  {
   "cell_type": "code",
   "execution_count": null,
   "metadata": {},
   "outputs": [],
   "source": [
    "# Add your solution here"
   ]
  },
  {
   "cell_type": "markdown",
   "metadata": {},
   "source": [
    "#### d. Gradient ascent and hill climbing are quite similar, and they are based almost exclusively on exploitation. Can you think of any additions to these algorithms in order to do more exploration?"
   ]
  },
  {
   "cell_type": "code",
   "execution_count": null,
   "metadata": {},
   "outputs": [],
   "source": [
    "# Add your solution here"
   ]
  },
  {
   "cell_type": "markdown",
   "metadata": {},
   "source": [
    "#### e. Which algorithm do you think is the most efficient at maximizing $f(x)$ under the conditions in Problem **c**; exhaustive search or simulated annealing?"
   ]
  },
  {
   "cell_type": "code",
   "execution_count": null,
   "metadata": {},
   "outputs": [],
   "source": [
    "# Add your solution here"
   ]
  }
 ],
 "metadata": {
  "kernelspec": {
   "display_name": "Python 3 (ipykernel)",
   "language": "python",
   "name": "python3"
  },
  "language_info": {
   "codemirror_mode": {
    "name": "ipython",
    "version": 3
   },
   "file_extension": ".py",
   "mimetype": "text/x-python",
   "name": "python",
   "nbconvert_exporter": "python",
   "pygments_lexer": "ipython3",
   "version": "3.10.12"
  }
 },
 "nbformat": 4,
 "nbformat_minor": 2
}
