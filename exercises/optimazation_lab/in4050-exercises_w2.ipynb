{
 "cells": [
  {
   "cell_type": "markdown",
   "metadata": {},
   "source": [
    "### 1. Given the function $ f(x) = -x^{4} + 2x^{3} + 2x^{2} - x $ and it's derivative $f'(x) = {- 4 x^3 + 6 x^2 + 4 x - 1}$"
   ]
  },
  {
   "cell_type": "code",
   "execution_count": null,
   "metadata": {},
   "outputs": [],
   "source": [
    "# Standard import and functions\n",
    "import numpy as np\n",
    "import matplotlib.pyplot as plt\n",
    "\n",
    "def f(x):\n",
    "    return -np.power(x, 4) + 2 * np.power(x, 3) + 2 * np.power(x, 2) - x\n",
    "\n",
    "def df(x):\n",
    "    return -4 * np.power(x, 3) + 6 * np.power(x, 2) + 4 * x - 1"
   ]
  },
  {
   "cell_type": "markdown",
   "metadata": {},
   "source": [
    "#### a. Plot the function, and its gradient (derivative) from $x = -2$ to $x = 3$"
   ]
  },
  {
   "cell_type": "code",
   "execution_count": 26,
   "metadata": {},
   "outputs": [
    {
     "data": {
      "image/png": "[encoded data removed]",
      "text/plain": [
       "<Figure size 640x480 with 1 Axes>"
      ]
     },
     "metadata": {},
     "output_type": "display_data"
    }
   ],
   "source": [
    "# Generate list of numbers that we want to plot\n",
    "x = np.linspace(-2, 3, 100)\n",
    "\n",
    "# Plotting the functions \n",
    "plt.plot(x, f(x), label=\"F(x)\")\n",
    "plt.plot(x, df(x), label=\"F'(x)\")\n",
    "plt.legend()\n",
    "plt.show()"
   ]
  },
  {
   "cell_type": "markdown",
   "metadata": {},
   "source": [
    "#### b. Maximize using gradient ascent. You can try step size 0.1 and start somewhere in the range $[-2, 3]$. "
   ]
  },
  {
   "cell_type": "markdown",
   "metadata": {},
   "source": [
    "Gradient ascent: $x_{(k+1)} = x_{(k)} + \\gamma \\nabla f(x_{(k)})$"
   ]
  },
  {
   "cell_type": "code",
   "execution_count": 109,
   "metadata": {},
   "outputs": [
    {
     "name": "stdout",
     "output_type": "stream",
     "text": [
      "F(x) = 0.33374324109271014, x = 0.5655999999999999, F'(x) = 2.4580707983359993\n",
      "F(x) = 1.1403204241491105, x = 0.8114070798335998, F'(x) = 4.059055538097722\n",
      "F(x) = 3.1582574668307375, x = 1.2173126336433722, F'(x) = 5.544851684223131\n",
      "F(x) = 5.776031310285072, x = 1.7717978020656853, F'(x) = 2.674207234710071\n",
      "F(x) = 5.945036250903644, x = 2.0392185255366924, F'(x) = -1.8122974670671788\n",
      "F(x) = 5.957116437426956, x = 1.8579887788299745, F'(x) = 1.4886709258915083\n",
      "F(x) = 5.992672163164407, x = 2.006855871419125, F'(x) = -1.1379647708803375\n",
      "F(x) = 5.999784910150302, x = 1.8930593943310914, F'(x) = 0.9378508533035337\n",
      "F(x) = 6.011438474007436, x = 1.9868444796614448, F'(x) = -0.7399957049223058\n",
      "F(x) = 6.015109478462409, x = 1.9128449091692143, F'(x) = 0.6090217628931143\n",
      "F(x) = 6.019468847801404, x = 1.9737470854585257, F'(x) = -0.48727521290031905\n",
      "F(x) = 6.021257440277916, x = 1.9250195641684937, F'(x) = 0.400097712758515\n",
      "F(x) = 6.02299629885618, x = 1.9650293354443453, F'(x) = -0.32242869258695794\n",
      "F(x) = 6.023838420299522, x = 1.9327864661856495, F'(x) = 0.26416740332457156\n",
      "F(x) = 6.024557647543512, x = 1.9592032065181066, F'(x) = -0.2137513356127574\n",
      "F(x) = 6.024945397995639, x = 1.937828072956831, F'(x) = 0.1748235323054832\n",
      "F(x) = 6.02524951793814, x = 1.9553104261873793, F'(x) = -0.1418003593227768\n",
      "F(x) = 6.025425411681653, x = 1.9411303902551016, F'(x) = 0.11582691913721366\n",
      "F(x) = 6.025555808133031, x = 1.952713082168823, F'(x) = -0.09408764599809771\n",
      "F(x) = 6.025634801745717, x = 1.9433043175690132, F'(x) = 0.07678341180463022\n",
      "F(x) = 6.025691214571195, x = 1.9509826587494763, F'(x) = -0.062430674555435495\n",
      "F(x) = 6.025726452335334, x = 1.9447395912939327, F'(x) = 0.05091634191788508\n",
      "F(x) = 6.025751000854483, x = 1.9498312254857213, F'(x) = -0.04142373622162765\n",
      "F(x) = 6.025766649109096, x = 1.9456888518635584, F'(x) = 0.03376915466567176\n",
      "F(x) = 6.025777372595244, x = 1.9490657673301257, F'(x) = -0.027484121724491217\n",
      "F(x) = 6.025784300711505, x = 1.9463173551576767, F'(x) = 0.0223988386589955\n",
      "F(x) = 6.025788996865206, x = 1.9485572390235761, F'(x) = -0.01823467451771421\n",
      "F(x) = 6.025792058070026, x = 1.9467337715718047, F'(x) = 0.01485785610801571\n",
      "F(x) = 6.0257941180933585, x = 1.9482195571826062, F'(x) = -0.012097662456353575\n",
      "F(x) = 6.025795468887653, x = 1.9470097909369708, F'(x) = 0.009856038670862155\n",
      "F(x) = 6.025796373537578, x = 1.947995394804057, F'(x) = -0.008025935947052254\n",
      "F(x) = 6.025796969062808, x = 1.9471928012093518, F'(x) = 0.00653820408864636\n",
      "F(x) = 6.025797366625699, x = 1.9478466216182164, F'(x) = -0.005324556628012012\n",
      "F(x) = 6.02579762902021, x = 1.9473141659554152, F'(x) = 0.0043373136734707884\n",
      "F(x) = 6.025797803820067, x = 1.9477478973227622, F'(x) = -0.003532374720156106\n",
      "F(x) = 6.025797919388461, x = 1.9473946598507466, F'(x) = 0.002877313986068941\n",
      "F(x) = 6.025797996268831, x = 1.9476823912493535, F'(x) = -0.0023434034809168836\n",
      "F(x) = 6.025798047156247, x = 1.9474480509012617, F'(x) = 0.001908782018579025\n",
      "F(x) = 6.025798080976911, x = 1.9476389291031195, F'(x) = -0.001554623911814268\n",
      "F(x) = 6.025798103379941, x = 1.947483466711938, F'(x) = 0.0012662724372365375\n",
      "F(x) = 6.025798118260182, x = 1.9476100939556618, F'(x) = -0.001031340936152425\n",
      "F(x) = 6.025798128121915, x = 1.9475069598620465, F'(x) = 0.0008400383595024152\n",
      "F(x) = 6.02579813466946, x = 1.9475909636979967, F'(x) = -0.0006841924242708686\n",
      "F(x) = 6.025798139010228, x = 1.9475225444555695, F'(x) = 0.0005572779233764535\n",
      "F(x) = 6.025798141891432, x = 1.9475782722479071, F'(x) = -0.00045389318419619684\n",
      "F(x) = 6.025798143801981, x = 1.9475328829294876, F'(x) = 0.00036969626198768424\n",
      "F(x) = 6.025798145069887, x = 1.9475698525556864, F'(x) = -0.0003011124129441711\n",
      "F(x) = 6.02579814591077, x = 1.947539741314392, F'(x) = 0.00024525541844511167\n",
      "F(x) = 6.025798146468741, x = 1.9475642668562365, F'(x) = -0.00019975763584767492\n",
      "F(x) = 6.025798146838827, x = 1.9475442910926517, F'(x) = 0.00016270180909838672\n",
      "F(x) = 6.02579814708438, x = 1.9475605612735616, F'(x) = -0.00013251893660104486\n",
      "F(x) = 6.02579814724726, x = 1.9475473093799014, F'(x) = 0.0001079359946771774\n",
      "F(x) = 6.025798147355324, x = 1.9475581029793692, F'(x) = -8.791285356490874e-05\n",
      "Final: F(x) = 6.025798147355324, x = 1.9475581029793692, F'(x) = -8.791285356490874e-05, Iterations = 53\n"
     ]
    }
   ],
   "source": [
    "# Step size (gamma) and starting x value for gradient decent \n",
    "gamma = 0.1\n",
    "x = 2.6\n",
    "\n",
    "# Gradient decent while the derivative is bigger then a constant epsilon\n",
    "eps = 0.0001\n",
    "\n",
    "# To limit the amount of iterations \n",
    "max_steps = 1000\n",
    "step_count = 0\n",
    "\n",
    "# while loop\n",
    "while(np.abs(df(x)) > eps and step_count < max_steps):\n",
    "    x+= gamma*df(x)\n",
    "    step_count += 1\n",
    "    print(f'F(x) = {f(x)}, x = {x}, F\\'(x) = {df(x)}')\n",
    "\n",
    "print(f'Final: F(x) = {f(x)}, x = {x}, F\\'(x) = {df(x)}, Iterations = {step_count}')\n"
   ]
  },
  {
   "cell_type": "markdown",
   "metadata": {},
   "source": [
    "##### a) How does the choice of starting point and step size affect the algorithm's performance?"
   ]
  },
  {
   "cell_type": "markdown",
   "metadata": {},
   "source": [
    "Starting point matter a lot in this case. If `x = 1`, it is able to find the global maxima. However, if the starting point is `x = -1`, then it is not able to find the global maximum, but a local maximum. This is not optimal for the given range. Thus the starting point matters a lot when finding the maximum: \n",
    "\n",
    "```math\n",
    "\\text{Let } \\gamma = 0.1 \\\\\n",
    "\n",
    "x = 3 \\rightarrow f(x) \\approx 0.766 \\\\\n",
    "x = 2.7 \\rightarrow f(x) \\approx 0.766\\\\\n",
    "x = 2.6 \\rightarrow f(x) \\approx 6 .025\\\\\n",
    "x = 2 \\rightarrow f(x) \\approx 6 .025\\\\\n",
    "x = 1 \\rightarrow f(x) \\approx 6 .025\\\\\n",
    "x = 0 \\rightarrow f(x) \\approx 0.766\\\\\n",
    "x = -1 \\rightarrow f(x) \\approx 0.766 \\\\\n",
    "x = -2 \\rightarrow f(x) \\approx 0.766 \\\\\n",
    "```\n",
    "\n",
    "Step size does also affects the algorithm by doing a lot more iterations by  \n",
    "\n",
    "```math\n",
    "\\text{Let } x = 1 \\\\\n",
    "\\gamma = 0.5 \\rightarrow f(x) \\approx \\inf \\rightarrow \\text{Runtime error!} \\\\\n",
    "\\gamma = 0.1 \\rightarrow f(x) \\approx 6 \\rightarrow \\text{14 iterations} \\\\\n",
    "\\gamma = 0.05 \\rightarrow f(x) \\approx 6 \\rightarrow \\text{5 iterations} \\\\\n",
    "\\gamma = 0.01 \\rightarrow f(x) \\approx 6 \\rightarrow \\text{35 iterations} \\\\\n",
    "\\gamma = 0.005 \\rightarrow f(x) \\approx 6 \\rightarrow \\text{71 iterations} \\\\\n",
    "```\n"
   ]
  },
  {
   "cell_type": "markdown",
   "metadata": {},
   "source": [
    "##### b) Is there a starting point where the algorithm would not even be able to find a local maximum?"
   ]
  },
  {
   "cell_type": "markdown",
   "metadata": {},
   "source": [
    "TODO: Answer"
   ]
  },
  {
   "cell_type": "markdown",
   "metadata": {},
   "source": [
    "#### c. Assume that we are only interested in maxima of $f(x)$, where $-2 \\leq x \\leq 3$, and x increases in step length of 0.5 ($\\Delta x = 0.5$). Perform an exhaustive search to maximize $f(x)$ and plot the result"
   ]
  },
  {
   "cell_type": "code",
   "execution_count": 110,
   "metadata": {},
   "outputs": [
    {
     "name": "stdout",
     "output_type": "stream",
     "text": [
      "x = -1.5, F(x) = -22\n",
      "x = -1.0, F(x) = -5.8125\n",
      "x = -0.5, F(x) = 0.0\n",
      "x = 0.0, F(x) = 0.6875\n",
      "x = 0.5, F(x) = 0.6875\n",
      "x = 1.0, F(x) = 0.6875\n",
      "x = 1.5, F(x) = 2.0\n",
      "x = 2.0, F(x) = 4.6875\n",
      "x = 2.5, F(x) = 6.0\n",
      "x = 3.0, F(x) = 6.0\n",
      "Best: F(x) = 6.0, x = 2.0\n"
     ]
    },
    {
     "data": {
      "text/plain": [
       "[]"
      ]
     },
     "execution_count": 110,
     "metadata": {},
     "output_type": "execute_result"
    },
    {
     "data": {
      "image/png": "[encoded data removed]",
      "text/plain": [
       "<Figure size 640x480 with 1 Axes>"
      ]
     },
     "metadata": {},
     "output_type": "display_data"
    }
   ],
   "source": [
    "# Setting initial gamma, current x and storing the best x\n",
    "gamma = 0.5\n",
    "x = -2\n",
    "best_x = x\n",
    "\n",
    "# While we are not at the end of the given range \n",
    "while (x < 3):\n",
    "    # Increment with the step size gamma\n",
    "    x += gamma\n",
    "    \n",
    "    # Printing information\n",
    "    print(f'x = {x}, F(x) = {f(best_x)}')\n",
    "\n",
    "    # Check if the new solution is better than the current\n",
    "    if f(x) > f(best_x):\n",
    "        best_x = x\n",
    "\n",
    "# Printing the best function \n",
    "print(f'Best: F(x) = {f(best_x)}, x = {best_x}')\n",
    "\n",
    "\n",
    "# Plotting the point on the graph \n",
    "# This way, we see that we have encountered the global maximum \n",
    "x_linspace = np.linspace(-2, 3, 100)\n",
    "plt.plot(x_linspace, f(x_linspace))\n",
    "plt.plot(best_x, f(best_x), 'ro')\n",
    "plt.plot()"
   ]
  },
  {
   "cell_type": "markdown",
   "metadata": {},
   "source": [
    "#### d. Gradient ascent and hill climbing are quite similar, and they are based almost exclusively on exploitation. Can you think of any additions to these algorithms in order to do more exploration?"
   ]
  },
  {
   "cell_type": "markdown",
   "metadata": {},
   "source": [
    "Gradient ascent and hill climbing can be modified such that they do more exploration. Since both are highly dependent on where they start, we can try to start at random places on the function space. This will make both algorithms find new optimal solutions.  "
   ]
  },
  {
   "cell_type": "markdown",
   "metadata": {},
   "source": [
    "#### e. Which algorithm do you think is the most efficient at maximizing $f(x)$ under the conditions in Problem **c**; exhaustive search or simulated annealing?"
   ]
  },
  {
   "cell_type": "markdown",
   "metadata": {},
   "source": [
    "Under the conditions of problem C, it depends on how quickly the temperature changes. If the temperature is slowly adjusted, then it might take more iterations then exhaustive search. In the problem C, only did 10 iterations."
   ]
  }
 ],
 "metadata": {
  "kernelspec": {
   "display_name": "Python 3 (ipykernel)",
   "language": "python",
   "name": "python3"
  },
  "language_info": {
   "codemirror_mode": {
    "name": "ipython",
    "version": 3
   },
   "file_extension": ".py",
   "mimetype": "text/x-python",
   "name": "python",
   "nbconvert_exporter": "python",
   "pygments_lexer": "ipython3",
   "version": "3.10.12"
  }
 },
 "nbformat": 4,
 "nbformat_minor": 2
}
