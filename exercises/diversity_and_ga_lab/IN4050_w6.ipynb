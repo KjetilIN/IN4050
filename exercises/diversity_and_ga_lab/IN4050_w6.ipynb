{
 "cells": [
  {
   "cell_type": "markdown",
   "metadata": {},
   "source": [
    "# IN4050 - Diversity and Applying Evolutionary Algorithm"
   ]
  },
  {
   "cell_type": "markdown",
   "metadata": {},
   "source": [
    "## Preserving Diversity\n",
    "\n",
    "### 1. Why do we want to preserve diversity?"
   ]
  },
  {
   "cell_type": "markdown",
   "metadata": {},
   "source": [
    "Diversity is important to ensure that we don't get stuck in local optima. \n",
    "With a diverse set of solutions, we can explore in different directions, and with a higher probability discover the global optima. \n",
    "\n",
    "Also, we avoid premature convergence to a sub optimal local optima. Meaning that with a not that diverse dataset, we can end up going to fast into a solution. "
   ]
  },
  {
   "cell_type": "markdown",
   "metadata": {},
   "source": [
    "### 2. What are the main differences between explicit and implicit approaches?"
   ]
  },
  {
   "cell_type": "markdown",
   "metadata": {},
   "source": [
    "An explicit way to preserve diversity is when a mechanism or a strategy actively is used to preserve the diversity.\n",
    "Meaning, that the mechanism takes control of the population. The mechanism is often complex.\n",
    "\n",
    "An implicit way to preserve diversity is when we let stochastic nature of algorithm control how diversity is held. \n",
    "When an algorithm is stochastic it, leads to a diverse set of solutions. The goal behind such a implicit approach is not to preserve diversity, but this is something that comes implicitly. The algorithm is often simple. "
   ]
  },
  {
   "cell_type": "markdown",
   "metadata": {},
   "source": [
    "## Applying Evolutionary Algorithms\n",
    "\n",
    "### 5. Drone Example\n",
    "Consider the following problem of designing a drone body with the goal of flying as fast as possible. Down below is a simple example of the drone body and some characteristics of the body that could be used. We want to solve this using an Evolutionary Algorithm. Write down some ways of solving the following points of the problem. (No code needed, just explain your choices)\n",
    "\n",
    "1. Fitness function for evaluating?\n",
    "2. What representation to use?\n",
    "3. Mutation, Crossovers\n",
    "4. Parent selection and survivor selection\n",
    "5. End condition\n",
    "\n",
    "\n",
    "![drone_problem](drone.png)"
   ]
  },
  {
   "cell_type": "markdown",
   "metadata": {},
   "source": [
    "#### Solution \n",
    "\n",
    "1. Fitness function for evaluating?\n",
    "    \n",
    "Fitness should express how well the solution is doing. Higher fitness means a better solution.\n",
    "In this case the natural fitness would be how high the drone is able to fly. The higher the drone can fly, the better the solution is.\n",
    "\n",
    "2. What representation to use?\n",
    "\n",
    "For representing a drone solution, we use all the given dimensions of the drone. \n",
    "We use an array with all the properties to express a solution:\n",
    "\n",
    "```math\n",
    "[\\text{body width}, \\text{body length}, \\text{arm width}, \\text{arm length} ]\n",
    "```\n",
    "\n",
    "3. Mutation, Crossovers\n",
    "\n",
    "Since all of the values are real-valued, we have to do real-valued mutation. \n",
    "The simples way to do a mutation would be to bump one of the values in a way. \n",
    "Note that we cannot use some distribution of all of the values in the array.\n",
    "The body and arms may have different proportions, and there is no information that tells us that the best solution have some of the values proportionate to others. \n",
    "\n",
    "For crossover, we can do a two or one point crossover with partially mapped crossover. \n",
    "This will allow new offspring to take some properties from the parent. For example, with one point partially mapped crossover, \n",
    "a new solution can have the body properties of parent1 and arm properties of parent2\n",
    "\n",
    "4. Parent selection and survivor selection\n",
    "\n",
    "For parent selection we can use either roulette wheel or tournament selections. \n",
    "Use either method with some pressure for selecting the best solutions. \n",
    "\n",
    "For survivor selection we use use elitism to keep the best solutions.\n",
    "With elitism we only keep a fraction of the best solutions.  \n",
    "\n",
    "5. End condition \n",
    "\n",
    "There is a lot of different ways to terminate. \n",
    "If we know that there is a expected hight that we can/want to achieve then the end condition can be when the fitness hits this value. \n",
    "\n",
    "We can also make it terminate when the fitness value stagnates. This is useful when we just want to run until we hit some optima. \n",
    "\n",
    "This might not be the best solution. It could be that a even better solution comes much later. To achieve this we could let it run for a set amount of generation before we terminate. "
   ]
  }
 ],
 "metadata": {
  "kernelspec": {
   "display_name": "Python 3",
   "language": "python",
   "name": "python3"
  },
  "language_info": {
   "codemirror_mode": {
    "name": "ipython",
    "version": 3
   },
   "file_extension": ".py",
   "mimetype": "text/x-python",
   "name": "python",
   "nbconvert_exporter": "python",
   "pygments_lexer": "ipython3",
   "version": "3.7.2"
  }
 },
 "nbformat": 4,
 "nbformat_minor": 2
}
