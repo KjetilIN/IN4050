{
 "cells": [
  {
   "cell_type": "markdown",
   "metadata": {},
   "source": [
    "# Week 08: Feed-forward Neural Networks with Backpropagation"
   ]
  },
  {
   "cell_type": "code",
   "execution_count": 1,
   "metadata": {},
   "outputs": [],
   "source": [
    "import numpy as np\n",
    "import matplotlib.pyplot as plt\n",
    "import sklearn"
   ]
  },
  {
   "cell_type": "markdown",
   "metadata": {},
   "source": [
    "# 8.1 Scaling\n",
    "Let's first consider *feature scaling*, which is a useful tool for machine learning\n",
    "\n",
    "To make it simple, we consider it in the context of (enhanced) linear regression. You should keep in mind, however, that it is equally relevant to classification as to regression. Also, feature scaling applies in similar ways to all learners using gradient descent.\n",
    "\n",
    "To keep things even simpler, we will reuse a data set and some of the classes and methods we introduced in the exercise set week 07."
   ]
  },
  {
   "cell_type": "markdown",
   "metadata": {},
   "source": [
    "In the lectures, we mentioned the importance of scaling/normalizing/standardizing the data for the *k*NN algorithm. \n",
    "We will here consider why scaling is important for gradient descent-based algorithms. \n",
    "Let's see the effects of this on a real data example."
   ]
  },
  {
   "cell_type": "markdown",
   "metadata": {},
   "source": [
    "## Dataset\n",
    "\n",
    "First, we'll load a dataset with features that intentionally vary in scale. \"ex1data2.txt\" (https://github.com/nex3z/machine-learning-exercise) is a dataset of housing prices, including the size of the house (in square feet), the number of bedrooms, and the price of the house in dollars.\n",
    "\n",
    "For the record, 100 sqm is about the same as 1100 sq. feet."
   ]
  },
  {
   "cell_type": "code",
   "execution_count": 2,
   "metadata": {},
   "outputs": [],
   "source": [
    "data = np.loadtxt(open(\"ex1data2.txt\", \"r\"), delimiter=\",\")"
   ]
  },
  {
   "cell_type": "markdown",
   "metadata": {},
   "source": [
    "Let us inspect what the data looks like:"
   ]
  },
  {
   "cell_type": "code",
   "execution_count": 52,
   "metadata": {},
   "outputs": [
    {
     "data": {
      "text/plain": [
       "array([[2.10400e+03, 3.00000e+00, 3.99900e+05],\n",
       "       [1.60000e+03, 3.00000e+00, 3.29900e+05],\n",
       "       [2.40000e+03, 3.00000e+00, 3.69000e+05],\n",
       "       [1.41600e+03, 2.00000e+00, 2.32000e+05],\n",
       "       [3.00000e+03, 4.00000e+00, 5.39900e+05],\n",
       "       [1.98500e+03, 4.00000e+00, 2.99900e+05],\n",
       "       [1.53400e+03, 3.00000e+00, 3.14900e+05],\n",
       "       [1.42700e+03, 3.00000e+00, 1.98999e+05],\n",
       "       [1.38000e+03, 3.00000e+00, 2.12000e+05],\n",
       "       [1.49400e+03, 3.00000e+00, 2.42500e+05]])"
      ]
     },
     "execution_count": 52,
     "metadata": {},
     "output_type": "execute_result"
    }
   ],
   "source": [
    "data[:10,:]"
   ]
  },
  {
   "cell_type": "markdown",
   "metadata": {},
   "source": [
    "The goal is to predict the price from the size and the number of bedrooms, so we start by splitting the input data from the target values."
   ]
  },
  {
   "cell_type": "markdown",
   "metadata": {},
   "source": [
    "## Exercise 8.1.1: Linear regression without scaling\n",
    "\n",
    "First, let's try to fit our `NumpyLinReg()` to the data. Experiment with various learning rates and number of epochs. Print the weights (coefficients). Try to predict the price of a 3-bedroom 1500 sq. feet house. What do you see?"
   ]
  },
  {
   "cell_type": "code",
   "execution_count": 6,
   "metadata": {},
   "outputs": [],
   "source": [
    "class NumpyLinReg():\n",
    "\n",
    "    def fit(self, X_train, t_train, lr = 0.1, epochs=10):\n",
    "        \"\"\"X_train is a NxM matrix, N data points, M features\n",
    "        t_train is avector of length N,\n",
    "        the targets values for the training data\n",
    "        lr is the learning rate\n",
    "        \"\"\"\n",
    "        \n",
    "        (N, M) = X_train.shape\n",
    "        X_train = add_bias(X_train)\n",
    "        \n",
    "        self.weights = weights = np.zeros(M + 1)\n",
    "        \n",
    "        for e in range(epochs):\n",
    "            weights -= lr / N *  X_train.T @ (X_train @ weights - t_train)      \n",
    "    \n",
    "    def predict(self, X):\n",
    "        \"\"\"X is a Kxm matrix for some K>=1\n",
    "        predict the value for each point in X\"\"\"\n",
    "        Z = add_bias(X)\n",
    "        return Z @ self.weights"
   ]
  },
  {
   "cell_type": "code",
   "execution_count": 75,
   "metadata": {},
   "outputs": [],
   "source": [
    "def add_bias(X, bias=1):\n",
    "    \"\"\"X is a NxM matrix: N datapoints, M features\n",
    "    Return a Nx(M+1) matrix with added bias in position zero\"\"\"\n",
    "    N = X.shape[0]\n",
    "    biases = np.ones((N, 1))*bias # Make a N*1 matrix of biases\n",
    "    \n",
    "    # Concatenate the column of bias in front of the columns of X.\n",
    "    return np.concatenate((biases, X), axis  = 1) "
   ]
  },
  {
   "cell_type": "code",
   "execution_count": 76,
   "metadata": {},
   "outputs": [],
   "source": [
    "# Vector form solution for mean squared error\n",
    "def mse_2(x,y):\n",
    "    return sum((x - y)**2) / x.shape[0]"
   ]
  },
  {
   "cell_type": "markdown",
   "metadata": {},
   "source": [
    "### Exercise 8.1.2: Implementing scaler\n",
    "\n",
    "The reason for our problems is the large difference in scale between our two input features -- 3 orders of magnitude. A good idea could be to scale the data before you start to experiment. Implement a standard scaler (normalizer) and scale your data. By the way, it is only the input data `X2` which have to be scaled. It is normally not necessary to scale the output values `t2`/`y`."
   ]
  },
  {
   "cell_type": "markdown",
   "metadata": {},
   "source": [
    "### Exercise 8.1.3: Linear regresssion with scaling\n",
    "Try to fit a linear regression to the scaled data. Experiment with various training rates and number of epochs. Print the weights (coefficients). Try to predict the price of a 3-bedroom 1500 sq. feet house. How does this go compared to the experiments without scaling?"
   ]
  },
  {
   "cell_type": "markdown",
   "metadata": {},
   "source": [
    "# 8.2 Feed-forward Neural Networks\n",
    "Now, we will try to approach a non-linear dataset with a simple feed-forward neural network with one hidden layer (a Multi-Layer Perceptron)."
   ]
  },
  {
   "cell_type": "code",
   "execution_count": 53,
   "metadata": {},
   "outputs": [
    {
     "data": {
      "text/plain": [
       "array([-5. , -4.9, -4.8, -4.7, -4.6, -4.5, -4.4, -4.3, -4.2, -4.1])"
      ]
     },
     "execution_count": 53,
     "metadata": {},
     "output_type": "execute_result"
    }
   ],
   "source": [
    "# The size of the dataset\n",
    "N = 101\n",
    "# The features of the dataset\n",
    "xx = np.linspace(-5, 5, N)\n",
    "xx[:10]"
   ]
  },
  {
   "cell_type": "markdown",
   "metadata": {},
   "source": [
    "For the y-features, we start with a third degree polynomial. We choose a polynomial which is further from linear."
   ]
  },
  {
   "cell_type": "code",
   "execution_count": 54,
   "metadata": {},
   "outputs": [],
   "source": [
    "polynom = xx**3 - 25*xx + 15"
   ]
  },
  {
   "cell_type": "code",
   "execution_count": 55,
   "metadata": {},
   "outputs": [
    {
     "data": {
      "text/plain": [
       "[<matplotlib.lines.Line2D at 0x7fe6b7bc5cc0>]"
      ]
     },
     "execution_count": 55,
     "metadata": {},
     "output_type": "execute_result"
    },
    {
     "data": {
      "image/png": "[encoded data removed]",
      "text/plain": [
       "<Figure size 640x480 with 1 Axes>"
      ]
     },
     "metadata": {},
     "output_type": "display_data"
    }
   ],
   "source": [
    "plt.plot(xx, polynom)"
   ]
  },
  {
   "cell_type": "markdown",
   "metadata": {},
   "source": [
    "We add some \"noise\" to the smooth curve to generate the dataset. The underlying idea is that the smooth curve represents the function we are looking for, and that this is the best we can hope to learn. A solution which does better  on the training material than the smooth curve is probably overfitted and will not generalize as well to new data as the smooth curve. We are using a normal distribution to generate noise. The numpy function `normal` will generate a vector of `size` many random points around `loc` from a distribution with standard deviation `scale`.\n",
    "\n",
    "Observe the `rng` prefix. This fix the seed such that we get the same dataset each time we run the notebook."
   ]
  },
  {
   "cell_type": "code",
   "execution_count": 56,
   "metadata": {},
   "outputs": [
    {
     "data": {
      "text/plain": [
       "<matplotlib.collections.PathCollection at 0x7fe6b7a33ee0>"
      ]
     },
     "execution_count": 56,
     "metadata": {},
     "output_type": "execute_result"
    },
    {
     "data": {
      "image/png": "[encoded data removed]",
      "text/plain": [
       "<Figure size 640x480 with 1 Axes>"
      ]
     },
     "metadata": {},
     "output_type": "display_data"
    }
   ],
   "source": [
    "from numpy.random import normal\n",
    "rng = np.random.default_rng(2024)\n",
    "t = polynom + rng.normal(loc=0, scale=5, size=N)\n",
    "plt.scatter(xx, t)"
   ]
  },
  {
   "cell_type": "markdown",
   "metadata": {},
   "source": [
    "Our training data now consist of pairs (xx[i], t[i]), where xx[i] is the datapoint and t[i] the target value. So far, both `xx` and `t` are vectors. Check their shapes, e.g., `xx.shape`. The goal is to make an implementation for linear regression which works with an arbitrary number of input variables and not just one. We will therefore transform `xx` to a matrix of dimension $N\\times m$ where each row represents one datapoint, and $m$ is the number of input variables (or features). Check the shape of `X` after the transform."
   ]
  },
  {
   "cell_type": "code",
   "execution_count": 59,
   "metadata": {},
   "outputs": [
    {
     "data": {
      "text/plain": [
       "(101, 1)"
      ]
     },
     "execution_count": 59,
     "metadata": {},
     "output_type": "execute_result"
    }
   ],
   "source": [
    "X = xx.reshape(-1,1)\n",
    "X.shape"
   ]
  },
  {
   "cell_type": "markdown",
   "metadata": {},
   "source": [
    "## 8.2.1: Linear regression baseline\n",
    "\n",
    "We start with implementing a simple linear regression model, as in week 7. Our aim is to find an approximate function that fits the data generated above."
   ]
  },
  {
   "cell_type": "markdown",
   "metadata": {},
   "source": [
    "Since we are dealing with only one input variable, we start with a simple linear function, $f(x_1) = w_0 + w_1x_1$."
   ]
  },
  {
   "cell_type": "markdown",
   "metadata": {},
   "source": [
    "We wonder if our $f$ fits the data well, and what parameters will give us the best approximation. We will estimate this using the Mean Squared Error:\n",
    "\n",
    "$\\frac{1}{N} \\sum_{j=1}^{N} (t_j - \\sum_{i=0}^{m} w_ix_{ji})^2$"
   ]
  },
  {
   "cell_type": "code",
   "execution_count": 167,
   "metadata": {},
   "outputs": [],
   "source": [
    "# More efficient vector form solution\n",
    "def mse_3(x,y):\n",
    "    return np.mean((x - y)**2)"
   ]
  },
  {
   "cell_type": "markdown",
   "metadata": {},
   "source": [
    "###  Excercise 8.2.1.1: Testing the MSE\n",
    "To test our implementation, take the function $f(x)=0$ as a baseline and calculate the MSE for this $f$. \n",
    "\n",
    "Also calculate the Root Means Square Error which provides a more natural measure for how good the fit is.\n",
    "\n",
    "By the way, what is the MSE  and RMSE for the theoretical distribution?"
   ]
  },
  {
   "cell_type": "markdown",
   "metadata": {},
   "source": [
    "### Excercise 8.2.1.2: Training and testing linear regresssion baseline\n",
    "Fit the model to the training data. Report the coefficients. Plot the line together with the observations. Calculate the RMSE. Is the result a better fit than the baseline constant function $f(x)=0$?"
   ]
  },
  {
   "cell_type": "markdown",
   "metadata": {},
   "source": [
    "## 8.2.2 MLP regression"
   ]
  },
  {
   "cell_type": "markdown",
   "metadata": {},
   "source": [
    "Now, a simple feed-forward neural network with one hidden layer: a multi-layered perceptron, MLP."
   ]
  },
  {
   "cell_type": "markdown",
   "metadata": {},
   "source": [
    "### One item, one pass\n",
    "We will add bias, and use bias=-1"
   ]
  },
  {
   "cell_type": "code",
   "execution_count": 179,
   "metadata": {},
   "outputs": [],
   "source": [
    "Xb = add_bias(X, bias=-1)"
   ]
  },
  {
   "cell_type": "code",
   "execution_count": 180,
   "metadata": {},
   "outputs": [
    {
     "data": {
      "text/plain": [
       "array([[-1. , -5. ],\n",
       "       [-1. , -4.9],\n",
       "       [-1. , -4.8],\n",
       "       [-1. , -4.7],\n",
       "       [-1. , -4.6],\n",
       "       [-1. , -4.5],\n",
       "       [-1. , -4.4],\n",
       "       [-1. , -4.3],\n",
       "       [-1. , -4.2],\n",
       "       [-1. , -4.1]])"
      ]
     },
     "execution_count": 180,
     "metadata": {},
     "output_type": "execute_result"
    }
   ],
   "source": [
    "Xb[:10]"
   ]
  },
  {
   "cell_type": "markdown",
   "metadata": {},
   "source": [
    "We will follow one datapoint through the model. First prediction, then update weights (backpropagation).\n",
    "\n",
    "We have chosen observation 25."
   ]
  },
  {
   "cell_type": "code",
   "execution_count": 181,
   "metadata": {},
   "outputs": [
    {
     "data": {
      "text/plain": [
       "array([-1. , -2.5])"
      ]
     },
     "execution_count": 181,
     "metadata": {},
     "output_type": "execute_result"
    }
   ],
   "source": [
    "obs = 25\n",
    "Xb[25]"
   ]
  },
  {
   "cell_type": "code",
   "execution_count": 92,
   "metadata": {},
   "outputs": [
    {
     "data": {
      "text/plain": [
       "60.61355120176822"
      ]
     },
     "execution_count": 92,
     "metadata": {},
     "output_type": "execute_result"
    }
   ],
   "source": [
    "t[25]"
   ]
  },
  {
   "cell_type": "markdown",
   "metadata": {},
   "source": [
    "When you start training you should initialize the weights to random numbers small in absolute value.\n",
    "\n",
    "Let's imagine we started to train the network in this way. We trained the network for small period. The weights in the matrices `V`, `W`, are the weights after this short training period. They are chosen as an example of weight matrices that may occur (early) during training. \n",
    "\n",
    "The current weights in matrix form:"
   ]
  },
  {
   "cell_type": "code",
   "execution_count": 182,
   "metadata": {},
   "outputs": [
    {
     "data": {
      "text/plain": [
       "array([[ 0.4,  0.2,  0.9],\n",
       "       [-1.5,  2. , -2. ]])"
      ]
     },
     "execution_count": 182,
     "metadata": {},
     "output_type": "execute_result"
    }
   ],
   "source": [
    "V = np.array([[0.4, 0.2, 0.9],\n",
    "            [-1.5, 2.0, -2.0]])\n",
    "V"
   ]
  },
  {
   "cell_type": "code",
   "execution_count": 183,
   "metadata": {},
   "outputs": [
    {
     "data": {
      "text/plain": [
       "array([[ 6. ],\n",
       "       [ 3. ],\n",
       "       [-3. ],\n",
       "       [ 4.2]])"
      ]
     },
     "execution_count": 183,
     "metadata": {},
     "output_type": "execute_result"
    }
   ],
   "source": [
    "W = np.array([6, 3.0, -3, 4.2]).reshape(-1,1)\n",
    "W"
   ]
  },
  {
   "cell_type": "markdown",
   "metadata": {},
   "source": [
    "We have to be aware whether we represent our observation as a vector of `shape=(2,)` or a row matrix of `shape=(1,2)`. Either of them can work. We have to be certain regarding the chosen format, however.\n",
    "\n",
    "To use a row matrix will have two advantages:\n",
    "\n",
    "- We reuse the code for batch processing\n",
    "- One of the steps is most easily done by matrices.\n",
    "\n",
    "Hence, we will use row matrices from the beginning."
   ]
  },
  {
   "cell_type": "code",
   "execution_count": 184,
   "metadata": {},
   "outputs": [
    {
     "data": {
      "text/plain": [
       "array([-1. , -2.5])"
      ]
     },
     "execution_count": 184,
     "metadata": {},
     "output_type": "execute_result"
    }
   ],
   "source": [
    "obs = 25 # The observation we will  consider\n",
    "x_obs = Xb[obs]\n",
    "# A vector\n",
    "x_obs"
   ]
  },
  {
   "cell_type": "code",
   "execution_count": 185,
   "metadata": {},
   "outputs": [
    {
     "data": {
      "text/plain": [
       "array([[-1. , -2.5]])"
      ]
     },
     "execution_count": 185,
     "metadata": {},
     "output_type": "execute_result"
    }
   ],
   "source": [
    "X_obs = Xb[obs:obs+1]\n",
    "# A row matrix\n",
    "X_obs"
   ]
  },
  {
   "cell_type": "code",
   "execution_count": 186,
   "metadata": {},
   "outputs": [
    {
     "name": "stdout",
     "output_type": "stream",
     "text": [
      "(2,)\n",
      "(1, 2)\n"
     ]
    }
   ],
   "source": [
    "print(x_obs.shape)\n",
    "print(X_obs.shape)"
   ]
  },
  {
   "cell_type": "markdown",
   "metadata": {},
   "source": [
    "### Forward pass"
   ]
  },
  {
   "cell_type": "markdown",
   "metadata": {},
   "source": [
    "Logistic activation function:"
   ]
  },
  {
   "cell_type": "code",
   "execution_count": 120,
   "metadata": {},
   "outputs": [],
   "source": [
    "def logistic(x):\n",
    "    return 1 / (1 + np.exp(-x))"
   ]
  },
  {
   "cell_type": "markdown",
   "metadata": {},
   "source": [
    "#### Hidden layer"
   ]
  },
  {
   "cell_type": "code",
   "execution_count": 202,
   "metadata": {},
   "outputs": [
    {
     "data": {
      "text/plain": [
       "array([[ 3.35, -5.2 ,  4.1 ]])"
      ]
     },
     "execution_count": 202,
     "metadata": {},
     "output_type": "execute_result"
    }
   ],
   "source": [
    "hidden_in = X_obs @ V\n",
    "hidden_in"
   ]
  },
  {
   "cell_type": "code",
   "execution_count": 203,
   "metadata": {},
   "outputs": [
    {
     "data": {
      "text/plain": [
       "array([[0.96610484, 0.0054863 , 0.9836975 ]])"
      ]
     },
     "execution_count": 203,
     "metadata": {},
     "output_type": "execute_result"
    }
   ],
   "source": [
    "hidden_out = logistic(hidden_in)\n",
    "hidden_out"
   ]
  },
  {
   "cell_type": "markdown",
   "metadata": {},
   "source": [
    "#### Excercise 8.2.2.1: Implementing the final layer"
   ]
  },
  {
   "cell_type": "markdown",
   "metadata": {},
   "source": [
    "We have the hidden layer, now finalize the neural network implementation. \n",
    "You should add biases to the output of the hidden layer, and then create the output layer `final_in=final_out=Y_obs` by applying weights `W` to the hidden layer."
   ]
  },
  {
   "cell_type": "markdown",
   "metadata": {},
   "source": [
    "#### The current weights"
   ]
  },
  {
   "cell_type": "code",
   "execution_count": 213,
   "metadata": {},
   "outputs": [
    {
     "data": {
      "text/plain": [
       "<matplotlib.legend.Legend at 0x7fe6b4e7f580>"
      ]
     },
     "execution_count": 213,
     "metadata": {},
     "output_type": "execute_result"
    },
    {
     "data": {
      "image/png": "[encoded data removed]",
      "text/plain": [
       "<Figure size 640x480 with 1 Axes>"
      ]
     },
     "metadata": {},
     "output_type": "display_data"
    }
   ],
   "source": [
    "# The generated dataset\n",
    "plt.scatter(X, t)\n",
    "plt.plot(X[obs], t[obs], \"rx\", label=\"target\")\n",
    "plt.plot(X[obs], Y_obs, \"gx\", label=\"predicted\")\n",
    "plt.legend()"
   ]
  },
  {
   "cell_type": "markdown",
   "metadata": {},
   "source": [
    "We can also check the predictions for other points."
   ]
  },
  {
   "cell_type": "code",
   "execution_count": 215,
   "metadata": {},
   "outputs": [],
   "source": [
    "Y = add_bias(logistic(Xb @ V), -1) @ W"
   ]
  },
  {
   "cell_type": "code",
   "execution_count": 216,
   "metadata": {},
   "outputs": [
    {
     "data": {
      "text/plain": [
       "<matplotlib.legend.Legend at 0x7fe6b4c425f0>"
      ]
     },
     "execution_count": 216,
     "metadata": {},
     "output_type": "execute_result"
    },
    {
     "data": {
      "image/png": "[encoded data removed]",
      "text/plain": [
       "<Figure size 640x480 with 1 Axes>"
      ]
     },
     "metadata": {},
     "output_type": "display_data"
    }
   ],
   "source": [
    "# The generated dataset\n",
    "plt.scatter(X, t)\n",
    "plt.plot(X[obs], t[obs], \"rx\", label=\"target\")\n",
    "plt.plot(X[obs], Y_obs, \"gx\", label=\"predicted\")\n",
    "plt.plot(X,Y, \"g\", label=\"model\")\n",
    "plt.legend()"
   ]
  },
  {
   "cell_type": "markdown",
   "metadata": {},
   "source": [
    "### Backpropagation pass"
   ]
  },
  {
   "cell_type": "code",
   "execution_count": 217,
   "metadata": {},
   "outputs": [
    {
     "data": {
      "text/plain": [
       "60.61355120176822"
      ]
     },
     "execution_count": 217,
     "metadata": {},
     "output_type": "execute_result"
    }
   ],
   "source": [
    "t[obs]"
   ]
  },
  {
   "cell_type": "markdown",
   "metadata": {},
   "source": [
    "We use 0.5*MSE as our loss"
   ]
  },
  {
   "cell_type": "code",
   "execution_count": 218,
   "metadata": {},
   "outputs": [
    {
     "data": {
      "text/plain": [
       "array([[1776.08989888]])"
      ]
     },
     "execution_count": 218,
     "metadata": {},
     "output_type": "execute_result"
    }
   ],
   "source": [
    "loss = 0.5 * (Y_obs-t[obs])**2\n",
    "loss"
   ]
  },
  {
   "cell_type": "markdown",
   "metadata": {},
   "source": [
    "#### The last layer"
   ]
  },
  {
   "cell_type": "code",
   "execution_count": 219,
   "metadata": {},
   "outputs": [
    {
     "data": {
      "text/plain": [
       "array([[-59.60016609]])"
      ]
     },
     "execution_count": 219,
     "metadata": {},
     "output_type": "execute_result"
    }
   ],
   "source": [
    "final_delta = (Y_obs - t[obs])\n",
    "final_delta"
   ]
  },
  {
   "cell_type": "markdown",
   "metadata": {},
   "source": [
    "We have what is needed for updating the Ws. But we have to wait until we have found the delta terms for the first layer.\n",
    "\n",
    "Observe that `A=hidden_out` has shape (1, 4), a row matrix, while W has shape (4, 1), a column matrix. Hence, we have to reshape A.\n",
    "\n",
    "The form `reshape((-1,1))` will reshape a matrix of shape `(m, n)` to matrix of shape `(m*n, 1)`."
   ]
  },
  {
   "cell_type": "code",
   "execution_count": 220,
   "metadata": {},
   "outputs": [],
   "source": [
    "# W -= lr * final_delta * hidden_out.reshape((-1,1))"
   ]
  },
  {
   "cell_type": "code",
   "execution_count": 221,
   "metadata": {},
   "outputs": [
    {
     "data": {
      "text/plain": [
       "(1, 4)"
      ]
     },
     "execution_count": 221,
     "metadata": {},
     "output_type": "execute_result"
    }
   ],
   "source": [
    "hidden_out.shape"
   ]
  },
  {
   "cell_type": "code",
   "execution_count": 222,
   "metadata": {},
   "outputs": [
    {
     "data": {
      "text/plain": [
       "array([[-1.        ],\n",
       "       [ 0.96610484],\n",
       "       [ 0.0054863 ],\n",
       "       [ 0.9836975 ]])"
      ]
     },
     "execution_count": 222,
     "metadata": {},
     "output_type": "execute_result"
    }
   ],
   "source": [
    "hidden_out.reshape((-1,1))"
   ]
  },
  {
   "cell_type": "markdown",
   "metadata": {},
   "source": [
    "#### The hidden layer"
   ]
  },
  {
   "cell_type": "code",
   "execution_count": 134,
   "metadata": {},
   "outputs": [
    {
     "data": {
      "text/plain": [
       "array([[-357.60099653, -178.80049826,  178.80049826, -250.32069757]])"
      ]
     },
     "execution_count": 134,
     "metadata": {},
     "output_type": "execute_result"
    }
   ],
   "source": [
    "hidden_out_delta = final_delta[0,0] * W.T\n",
    "hidden_out_delta"
   ]
  },
  {
   "cell_type": "code",
   "execution_count": 135,
   "metadata": {},
   "outputs": [
    {
     "data": {
      "text/plain": [
       "array([[-357.60099653, -178.80049826,  178.80049826, -250.32069757]])"
      ]
     },
     "execution_count": 135,
     "metadata": {},
     "output_type": "execute_result"
    }
   ],
   "source": [
    "hidden_out_delta = final_delta @ W.T\n",
    "hidden_out_delta"
   ]
  },
  {
   "cell_type": "markdown",
   "metadata": {},
   "source": [
    "We remove the part which corresponds to the bias in the hidden layer when we are going backwards through the hidden layer. It is important to remember where you put the bias - first or last in the vectors."
   ]
  },
  {
   "cell_type": "code",
   "execution_count": 136,
   "metadata": {},
   "outputs": [
    {
     "data": {
      "text/plain": [
       "array([[-5.85505154,  0.97557118, -4.01432491]])"
      ]
     },
     "execution_count": 136,
     "metadata": {},
     "output_type": "execute_result"
    }
   ],
   "source": [
    "a = hidden_out[:, 1:]\n",
    "hidden_in_delta = a * (1 - a) * hidden_out_delta[:, 1:]\n",
    "hidden_in_delta"
   ]
  },
  {
   "cell_type": "markdown",
   "metadata": {},
   "source": [
    "#### Excercise 8.2.2.2: Updating MLP weights\n",
    "Now, that you have all the deltas, do one step of updating the neural network weights."
   ]
  },
  {
   "cell_type": "markdown",
   "metadata": {},
   "source": [
    "### Stochastic gradient descent"
   ]
  },
  {
   "cell_type": "markdown",
   "metadata": {},
   "source": [
    "We gather the code from the forward pass and backprogation pass for one observation in one cell. To see that we have copied everything correctly, we reset the weights, run everything, and see that the updated weights are the same."
   ]
  },
  {
   "cell_type": "code",
   "execution_count": 232,
   "metadata": {},
   "outputs": [
    {
     "name": "stdout",
     "output_type": "stream",
     "text": [
      "W: \n",
      "[[ 5.40399834]\n",
      " [ 3.57580009]\n",
      " [-2.99673016]\n",
      " [ 4.78628534]]\n",
      "\n",
      "V: \n",
      "[[ 0.34144948  0.20975571  0.85985675]\n",
      " [-1.64637629  2.02438928 -2.10035812]]\n"
     ]
    }
   ],
   "source": [
    "V = np.array([[0.4, 0.2, 0.9],\n",
    "            [-1.5, 2.0, -2.0]])\n",
    "W = np.array([6, 3.0, -3, 4.2]).reshape(-1,1)\n",
    "\n",
    "lr = 0.01\n",
    "obs = 25\n",
    "X_obs = Xb[obs:obs+1]\n",
    "\n",
    "hidden_in = X_obs @ V\n",
    "\n",
    "hidden_out = logistic(hidden_in)\n",
    "\n",
    "hidden_out = add_bias(hidden_out, -1)\n",
    "\n",
    "final_in = hidden_out @ W\n",
    "\n",
    "Y_obs = final_out = final_in\n",
    "\n",
    "\n",
    "### Backprop\n",
    "\n",
    "t[obs]\n",
    "\n",
    "final_delta = (Y_obs - t[obs])\n",
    "\n",
    "# hidden_out_delta = final_delta @ W.T\n",
    "\n",
    "hidden_out_delta = final_delta[0,0] * W.T\n",
    "\n",
    "a = hidden_out[:,1:]\n",
    "\n",
    "hidden_in_delta = a * (1 -a) * hidden_out_delta[:,1:]\n",
    "\n",
    "W -= lr * final_delta * hidden_out.reshape((-1,1))\n",
    "print(\"W: \")\n",
    "print(W)\n",
    "\n",
    "V -= lr * X_obs.T @ hidden_in_delta\n",
    "print(\"\\nV: \")\n",
    "print(V)"
   ]
  },
  {
   "cell_type": "markdown",
   "metadata": {},
   "source": [
    "### Excercise 8.2.2.3\n",
    "Turn it into *stochastic gradient descent* by running the code repeatedly. For each iteration, choose a random point (instance) from the dataset. \n",
    "\n",
    "Choose a smaller learning rate than in the step-by-step example. Try to run it with various numbers of iterations and various learning rates. Plot the results. Is it better than the linear approximation?"
   ]
  },
  {
   "cell_type": "markdown",
   "metadata": {},
   "source": [
    "## The number of hidden nodes"
   ]
  },
  {
   "cell_type": "markdown",
   "metadata": {},
   "source": [
    "### Excercise 8.2.2.4: Batch processing"
   ]
  },
  {
   "cell_type": "markdown",
   "metadata": {},
   "source": [
    "We are interested whether we can get a better approximation with a larger number of nodes in the hidden layer. \n",
    "Implement a `MLPBinaryLinReg()` class using batch processing and having the number of hidden nodes as a parameter.\n",
    "The class should have `fit()`, `forward()` and `predict()` methods."
   ]
  },
  {
   "cell_type": "code",
   "execution_count": 237,
   "metadata": {},
   "outputs": [],
   "source": [
    "def logistic(x):\n",
    "    return 1 / (1 + np.exp(-x))\n",
    "\n",
    "def logistic_diff(y):\n",
    "    return y * (1 - y)"
   ]
  },
  {
   "cell_type": "markdown",
   "metadata": {},
   "source": [
    "#### 3 hidden nodes\n",
    "\n",
    "First, we try to train with three hidden nodes, and compare to the stochastic gradient descent algorithm."
   ]
  },
  {
   "cell_type": "code",
   "execution_count": 238,
   "metadata": {},
   "outputs": [
    {
     "data": {
      "text/plain": [
       "[<matplotlib.lines.Line2D at 0x7fe6b4b6e170>]"
      ]
     },
     "execution_count": 238,
     "metadata": {},
     "output_type": "execute_result"
    },
    {
     "data": {
      "image/png": "[encoded data removed]",
      "text/plain": [
       "<Figure size 640x480 with 1 Axes>"
      ]
     },
     "metadata": {},
     "output_type": "display_data"
    }
   ],
   "source": [
    "regr = MLPBinaryLinReg(bias=-1, dim_hidden=3)\n",
    "regr.fit(X, t, epochs=50000, lr=0.001)\n",
    "Y=regr.predict(X)\n",
    "\n",
    "plt.scatter(X, t)\n",
    "plt.plot(X, Y, \"g\")"
   ]
  },
  {
   "cell_type": "code",
   "execution_count": 239,
   "metadata": {},
   "outputs": [
    {
     "name": "stdout",
     "output_type": "stream",
     "text": [
      "MSE:  120.31719166833697\n"
     ]
    }
   ],
   "source": [
    "error = mse_2(t, Y)\n",
    "print(\"MSE: \", error)"
   ]
  },
  {
   "cell_type": "code",
   "execution_count": 240,
   "metadata": {},
   "outputs": [
    {
     "name": "stdout",
     "output_type": "stream",
     "text": [
      "RMSE : 10.968919348246525\n"
     ]
    }
   ],
   "source": [
    "print(\"RMSE :\", np.sqrt(error))"
   ]
  },
  {
   "cell_type": "markdown",
   "metadata": {},
   "source": [
    "We get comparable results to the SGD."
   ]
  },
  {
   "cell_type": "markdown",
   "metadata": {},
   "source": [
    "### 12 hidden nodes"
   ]
  },
  {
   "cell_type": "code",
   "execution_count": 241,
   "metadata": {},
   "outputs": [
    {
     "data": {
      "text/plain": [
       "[<matplotlib.lines.Line2D at 0x7fe6b49f8b50>]"
      ]
     },
     "execution_count": 241,
     "metadata": {},
     "output_type": "execute_result"
    },
    {
     "data": {
      "image/png": "[encoded data removed]",
      "text/plain": [
       "<Figure size 640x480 with 1 Axes>"
      ]
     },
     "metadata": {},
     "output_type": "display_data"
    }
   ],
   "source": [
    "regr = MLPBinaryLinReg(bias=-1, dim_hidden=12)\n",
    "regr.fit(X, t, epochs=50000, lr=0.0001)\n",
    "Y=regr.predict(X)\n",
    "\n",
    "plt.scatter(X, t)\n",
    "plt.plot(X, Y, \"g\")"
   ]
  },
  {
   "cell_type": "code",
   "execution_count": 242,
   "metadata": {},
   "outputs": [
    {
     "name": "stdout",
     "output_type": "stream",
     "text": [
      "MSE:  120.80163012267245\n"
     ]
    }
   ],
   "source": [
    "error = mse_2(t, Y)\n",
    "print(\"MSE: \", error)"
   ]
  },
  {
   "cell_type": "code",
   "execution_count": 243,
   "metadata": {},
   "outputs": [
    {
     "name": "stdout",
     "output_type": "stream",
     "text": [
      "RMSE : 10.990979488774986\n"
     ]
    }
   ],
   "source": [
    "print(\"RMSE :\", np.sqrt(error))"
   ]
  },
  {
   "cell_type": "code",
   "execution_count": 244,
   "metadata": {
    "scrolled": false
   },
   "outputs": [
    {
     "name": "stdout",
     "output_type": "stream",
     "text": [
      "CPU times: user 36.1 s, sys: 0 ns, total: 36.1 s\n",
      "Wall time: 36.1 s\n"
     ]
    },
    {
     "data": {
      "text/plain": [
       "[<matplotlib.lines.Line2D at 0x7fe6b4a4fc70>]"
      ]
     },
     "execution_count": 244,
     "metadata": {},
     "output_type": "execute_result"
    },
    {
     "data": {
      "image/png": "[encoded data removed]",
      "text/plain": [
       "<Figure size 640x480 with 1 Axes>"
      ]
     },
     "metadata": {},
     "output_type": "display_data"
    }
   ],
   "source": [
    "%%time\n",
    "\n",
    "regr = MLPBinaryLinReg(bias=-1, dim_hidden=12)\n",
    "regr.fit(X, t, epochs=500000, lr=0.0001)\n",
    "Y=regr.predict(X)\n",
    "\n",
    "plt.scatter(X, t)\n",
    "plt.plot(X, Y, \"g\")"
   ]
  },
  {
   "cell_type": "code",
   "execution_count": 245,
   "metadata": {},
   "outputs": [
    {
     "name": "stdout",
     "output_type": "stream",
     "text": [
      "MSE:  70.89873147296618\n"
     ]
    }
   ],
   "source": [
    "error = mse_2(t, Y)\n",
    "print(\"MSE: \", error)"
   ]
  },
  {
   "cell_type": "code",
   "execution_count": 246,
   "metadata": {},
   "outputs": [
    {
     "name": "stdout",
     "output_type": "stream",
     "text": [
      "RMSE : 8.420138447375209\n"
     ]
    }
   ],
   "source": [
    "print(\"RMSE :\", np.sqrt(error))"
   ]
  },
  {
   "cell_type": "code",
   "execution_count": 247,
   "metadata": {},
   "outputs": [
    {
     "name": "stdout",
     "output_type": "stream",
     "text": [
      "CPU times: user 4.26 s, sys: 0 ns, total: 4.26 s\n",
      "Wall time: 4.26 s\n"
     ]
    },
    {
     "data": {
      "text/plain": [
       "[<matplotlib.lines.Line2D at 0x7fe6b5663be0>]"
      ]
     },
     "execution_count": 247,
     "metadata": {},
     "output_type": "execute_result"
    },
    {
     "data": {
      "image/png": "[encoded data removed]",
      "text/plain": [
       "<Figure size 640x480 with 1 Axes>"
      ]
     },
     "metadata": {},
     "output_type": "display_data"
    }
   ],
   "source": [
    "%%time\n",
    "\n",
    "regr = MLPBinaryLinReg(bias=-1, dim_hidden=12)\n",
    "regr.fit(X, t, epochs=50000, lr=0.001)\n",
    "Y=regr.predict(X)\n",
    "\n",
    "plt.scatter(X, t)\n",
    "plt.plot(X, Y, \"g\")"
   ]
  },
  {
   "cell_type": "code",
   "execution_count": 248,
   "metadata": {},
   "outputs": [
    {
     "name": "stdout",
     "output_type": "stream",
     "text": [
      "MSE:  72.73059067167331\n"
     ]
    }
   ],
   "source": [
    "error = mse_2(t, Y)\n",
    "print(\"MSE: \", error)"
   ]
  },
  {
   "cell_type": "code",
   "execution_count": 249,
   "metadata": {},
   "outputs": [
    {
     "name": "stdout",
     "output_type": "stream",
     "text": [
      "RMSE : 8.528223183739582\n"
     ]
    }
   ],
   "source": [
    "print(\"RMSE :\", np.sqrt(error))"
   ]
  },
  {
   "cell_type": "code",
   "execution_count": 250,
   "metadata": {},
   "outputs": [
    {
     "name": "stdout",
     "output_type": "stream",
     "text": [
      "CPU times: user 36.6 s, sys: 45.8 ms, total: 36.7 s\n",
      "Wall time: 36.7 s\n"
     ]
    },
    {
     "data": {
      "text/plain": [
       "[<matplotlib.lines.Line2D at 0x7fe6b4de9e10>]"
      ]
     },
     "execution_count": 250,
     "metadata": {},
     "output_type": "execute_result"
    },
    {
     "data": {
      "image/png": "[encoded data removed]",
      "text/plain": [
       "<Figure size 640x480 with 1 Axes>"
      ]
     },
     "metadata": {},
     "output_type": "display_data"
    }
   ],
   "source": [
    "%%time\n",
    "\n",
    "regr = MLPBinaryLinReg(bias=-1, dim_hidden=12)\n",
    "regr.fit(X, t, epochs=500000, lr=0.001)\n",
    "Y=regr.predict(X)\n",
    "\n",
    "plt.scatter(X, t)\n",
    "plt.plot(X, Y, \"g\")"
   ]
  },
  {
   "cell_type": "code",
   "execution_count": 251,
   "metadata": {},
   "outputs": [
    {
     "name": "stdout",
     "output_type": "stream",
     "text": [
      "MSE:  19.251363879000493\n"
     ]
    }
   ],
   "source": [
    "error = mse_2(t, Y)\n",
    "print(\"MSE: \", error)"
   ]
  },
  {
   "cell_type": "code",
   "execution_count": 252,
   "metadata": {},
   "outputs": [
    {
     "name": "stdout",
     "output_type": "stream",
     "text": [
      "RMSE : 4.387637619380216\n"
     ]
    }
   ],
   "source": [
    "print(\"RMSE :\", np.sqrt(error))"
   ]
  },
  {
   "cell_type": "markdown",
   "metadata": {},
   "source": [
    "What happens if we increase the number of hidden nodes further?"
   ]
  },
  {
   "cell_type": "markdown",
   "metadata": {},
   "source": [
    "### 100 hidden nodes"
   ]
  },
  {
   "cell_type": "code",
   "execution_count": 253,
   "metadata": {},
   "outputs": [
    {
     "name": "stdout",
     "output_type": "stream",
     "text": [
      "CPU times: user 59.1 s, sys: 44.9 s, total: 1min 44s\n",
      "Wall time: 27.6 s\n"
     ]
    },
    {
     "data": {
      "text/plain": [
       "[<matplotlib.lines.Line2D at 0x7fe6b498c640>]"
      ]
     },
     "execution_count": 253,
     "metadata": {},
     "output_type": "execute_result"
    },
    {
     "data": {
      "image/png": "[encoded data removed]",
      "text/plain": [
       "<Figure size 640x480 with 1 Axes>"
      ]
     },
     "metadata": {},
     "output_type": "display_data"
    }
   ],
   "source": [
    "%%time\n",
    "\n",
    "regr = MLPBinaryLinReg(bias=-1, dim_hidden=100)\n",
    "regr.fit(X, t, epochs=50000, lr=0.001)\n",
    "Y=regr.predict(X)\n",
    "\n",
    "plt.scatter(X, t)\n",
    "plt.plot(X, Y, \"g\")"
   ]
  },
  {
   "cell_type": "code",
   "execution_count": 254,
   "metadata": {},
   "outputs": [
    {
     "name": "stdout",
     "output_type": "stream",
     "text": [
      "MSE:  11.251521068235029\n"
     ]
    }
   ],
   "source": [
    "error = mse_2(t, Y)\n",
    "print(\"MSE: \", error)"
   ]
  },
  {
   "cell_type": "code",
   "execution_count": 255,
   "metadata": {},
   "outputs": [
    {
     "name": "stdout",
     "output_type": "stream",
     "text": [
      "RMSE : 3.3543287060505906\n"
     ]
    }
   ],
   "source": [
    "print(\"RMSE :\", np.sqrt(error))"
   ]
  },
  {
   "cell_type": "markdown",
   "metadata": {},
   "source": [
    "We see we can get the predicted curve to follow the data quite closely. We have definitely entered the land of overfitting."
   ]
  },
  {
   "cell_type": "markdown",
   "metadata": {},
   "source": [
    "NB: all the experiments with MLP + linear regression are easily transformed into MLP + classification."
   ]
  }
 ],
 "metadata": {
  "kernelspec": {
   "display_name": "Python 3 (ipykernel)",
   "language": "python",
   "name": "python3"
  },
  "language_info": {
   "codemirror_mode": {
    "name": "ipython",
    "version": 3
   },
   "file_extension": ".py",
   "mimetype": "text/x-python",
   "name": "python",
   "nbconvert_exporter": "python",
   "pygments_lexer": "ipython3",
   "version": "3.10.12"
  }
 },
 "nbformat": 4,
 "nbformat_minor": 2
}
