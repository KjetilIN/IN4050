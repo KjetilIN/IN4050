{
 "cells": [
  {
   "cell_type": "markdown",
   "metadata": {},
   "source": [
    "# IN4050 2024: Perceptron\n",
    "### Introduction\n",
    "The goal of this week's exercise set is to get familiar with the perceptron classifier.\n",
    "The set has two parts.\n",
    "The first part does not involve programming or Python.\n",
    "The questions in this part are the type of questions you will meet at the exam.\n",
    "They can (and should) be solved by pen and paper or a word processor and, eventually, a calculator.\n",
    "\n",
    "The second part involves implementations in Python."
   ]
  },
  {
   "cell_type": "markdown",
   "metadata": {},
   "source": [
    "## Part 1: Exam type exercises"
   ]
  },
  {
   "cell_type": "markdown",
   "metadata": {},
   "source": [
    "### Exercise I\n",
    "You want to predict if movies will be profitable based on their screenplays. You hire two critics A and B to read a script you have and rate it on a scale of 1 to 6. The critics are not perfect; here are five data points including the critics' scores and the performance of the movie:\n",
    "```\n",
    "| Movie # | Alice    | Bob       | Profitable? |\n",
    "|  _______|__________|___________|_____________|\n",
    "|  1      | 1        | 1         |      no     |\n",
    "|  _______|__________|___________|_____________|\n",
    "|  2      | 4        | 3         |      yes    |\n",
    "|  _______|__________|___________|_____________|\n",
    "|  3      | 3        | 5         |      yes    |\n",
    "|  _______|__________|___________|_____________|\n",
    "|  4      | 5        | 6         |      yes    |\n",
    "|  _______|__________|___________|_____________|\n",
    "|  5      | 2        | 3         |      no     |\n",
    "|  _______|__________|___________|_____________|\n",
    "```\n",
    "Is the data linearly separable? Plot the data on a sheet of paper; label profitable movies with + and non-profitable movies with x and determine if the data are linearily separable."
   ]
  },
  {
   "cell_type": "markdown",
   "metadata": {},
   "source": [
    "Solution: \n",
    "\n",
    "**YES**, plot all the data, where Bob and alice is each their own axis. This shows that we can have a line between Bob and Alice. \n",
    "The line have also some margin. This allows us to use a perceptron to classify the catagories. "
   ]
  },
  {
   "cell_type": "markdown",
   "metadata": {},
   "source": [
    "### Exercise II\n",
    "\n",
    "You decide to use a perceptron to classify your data. \n",
    "Suppose you directly use the scores given above as features,\n",
    "$x_1=$ score given by A and $x_2=$ score given by B.\n",
    "You also add a bias term in position 0, $x_0=-1$.\n",
    "\n",
    "Run one pass through the data with the perceptron algorithm, filling out the table below. \n",
    "Go through the data points in order, e.g., using data from movie 1 at step 1. \n",
    "Suppose we start with the weights $(w_0, w_1, w_2)=(1,0,0)$. \n",
    "Use $1$ as learning rate.\n",
    "\n",
    "For each of the 5 steps, write the \n",
    "the score, and whether the prediction is correct.\n",
    "Calculate the new weights, enter them at the next line and repeat.\n",
    "\n",
    "```\n",
    "| Step | Weights    | Score                     | Correct predicition? |\n",
    "_______|____________|___________________________|______________________|\n",
    "|  1   | (1, 0, 0)  | 1*(-1) + 0*1 + 0 * 1 = -1 |      yes             |\n",
    "_______|____________|___________________________|______________________|\n",
    "|  2   |            |                           |                      |\n",
    "_______|____________|___________________________|______________________|\n",
    "|  3   |            |                           |                      |\n",
    "_______|____________|___________________________|______________________|\n",
    "|  4   |            |                           |                      |\n",
    "_______|____________|___________________________|______________________|\n",
    "|  5   |            |                           |                      |\n",
    "_______|____________|___________________________|______________________|\n",
    "|      |            |\n",
    "|______|____________|\n",
    "\n",
    "```"
   ]
  },
  {
   "cell_type": "markdown",
   "metadata": {},
   "source": [
    "Solution: was not able to make it converge, for the given 5 iterations:\n",
    "\n",
    "```\n",
    "| Step | Weights    | Score                     | Correct predicition? |\n",
    "_______|____________|___________________________|______________________|\n",
    "|  1   | (1, 0, 0)  | 1*(-1) + 0*1 + 0 * 1 = -1 |      yes             |\n",
    "_______|____________|___________________________|______________________|\n",
    "|  2   | (1, 0, 0)  | 1*(-1) + 0*4 + 0 * 3 = -1 |      no              |\n",
    "_______|____________|___________________________|______________________|\n",
    "\n",
    "```\n",
    "\n",
    "Weight update:\n",
    "\n",
    "w_0 = w_0 + eta*(t - y)*x_0 = 1 + 1(1 - 0)(-1) = 0\n",
    "\n",
    "w_1 = w_1 + eta*(t - y)*x_1 = 0 + 1(1 - 0)4 = 4\n",
    "\n",
    "w_2 = w_2 + eta*(t - y)*x_2 = 0 + 1(1 - 0)3 = 3\n",
    "\n",
    "\n",
    "```\n",
    "|  3   |(0,4,3)     |0*(-1)+4*3+3*5=27, y = 1   |  Yes (t = 1)         |\n",
    "_______|____________|___________________________|______________________|\n",
    "|  4   |(0,4,3)     |0*(-1)+4*5+3*6=38, y = 1   |  Yes (t = 1)         |\n",
    "_______|____________|___________________________|______________________|\n",
    "|  5   |(0,4,3)     |0*(-1)+4*2+3*3=17, y = 1   |  No (t = 0)          |\n",
    "_______|____________|___________________________|______________________|\n",
    "\n",
    "```\n",
    "Weight update:\n",
    "\n",
    "w_0 = w_0 + eta*(t - y)*x_0 = 0 + 1(0 - 1)(-1) = 1\n",
    "\n",
    "w_1 = w_1 + eta*(t - y)*x_1 = 4 + 1(0 - 1)2 = 2\n",
    "\n",
    "w_2 = w_2 + eta*(t - y)*x_2 = 3 + 1(0 - 1)3 = 0\n",
    "\n",
    "Final weight are:\n",
    "\n",
    "$(w_0, w_1, w_2) = (1, 2, 0)$"
   ]
  },
  {
   "cell_type": "markdown",
   "metadata": {},
   "source": [
    "### Exercise III\n",
    "Have weights been learned that separate the data? \n",
    "Plot the data together with the decision boundary given by the weigths which you are left with after you have run all the data points the first round in the previous question."
   ]
  },
  {
   "cell_type": "code",
   "execution_count": 65,
   "metadata": {},
   "outputs": [
    {
     "data": {
      "image/png": "[encoded data removed]",
      "text/plain": [
       "<Figure size 640x480 with 1 Axes>"
      ]
     },
     "metadata": {},
     "output_type": "display_data"
    }
   ],
   "source": [
    "import numpy as np\n",
    "\n",
    "# X3: Feature set (Alice, Bob)\n",
    "X3 = [\n",
    "    (1, 1),  # Movie 1\n",
    "    (4, 3),  # Movie 2\n",
    "    (3, 5),  # Movie 3\n",
    "    (5, 6),  # Movie 4\n",
    "    (2, 3)   # Movie 5\n",
    "]\n",
    "\n",
    "# t3: Target labels (Profitable? -> 1 for 'yes', 0 for 'no')\n",
    "t3 = [\n",
    "    0,  # Movie 1 -> 'no'\n",
    "    1,  # Movie 2 -> 'yes'\n",
    "    1,  # Movie 3 -> 'yes'\n",
    "    1,  # Movie 4 -> 'yes'\n",
    "    0   # Movie 5 -> 'no'\n",
    "]\n",
    "\n",
    "# Plotting with our current weights\n",
    "bias = 1\n",
    "w1 = 2\n",
    "w2 = 0\n",
    "\n",
    "# Plotting X3 data points colored with their class from t3 \n",
    "# Convert X3 into separate lists for easier plotting\n",
    "X1_vals = [x[0] for x in X3]  # Alice's values (x1)\n",
    "X2_vals = [x[1] for x in X3]  # Bob's values (x2)\n",
    "\n",
    "# Create a scatter plot of the points, colored by class\n",
    "plt.scatter(X1_vals, X2_vals, c=t3, cmap='bwr', edgecolor='k', s=100)\n",
    "plt.xlabel('Alice')\n",
    "plt.ylabel('Bob')\n",
    "\n",
    "# Plot the decision boundary\n",
    "# Create x values for the decision boundary line\n",
    "x_vals = np.linspace(min(X1_vals) - 1, max(X1_vals) + 1, 100)\n",
    "\n",
    "# Compute the corresponding y values (x2 values) for the decision boundary\n",
    "# Using the equation x2 = -(w1/w2) * x1 - (bias/w2)\n",
    "y_vals = bias + w1*x_vals + w2*x_vals\n",
    "\n",
    "# Plot the decision boundary line\n",
    "plt.plot(x_vals, y_vals, 'g-', label='Decision Boundary')\n",
    "\n",
    "# Add a legend\n",
    "plt.legend()\n",
    "\n",
    "# Show the plot\n",
    "plt.show()\n"
   ]
  },
  {
   "cell_type": "markdown",
   "metadata": {},
   "source": [
    "We can see that the model cannot yet separate our data"
   ]
  },
  {
   "cell_type": "markdown",
   "metadata": {},
   "source": [
    "### Exercise IV\n",
    "More generally, irrespective of the training data, you want to know if your features are powerful enough to allow you to handle a range of scenarios. Which of the following scenarios can a perceptron using the features above  indeed perfectly classify movies which are profitable according to the given rules:\n",
    "\n",
    "1. Your reviewers are awesome: if the total of their scores is more than 8, then the movie will definitely be profitable, and otherwise it won't be.\n",
    "\n",
    "2. Your reviewers are art critics. Your movie will be profitable if and only if each reviewer gives either a score of 3 or a score of 4.\n",
    "\n",
    "3. Your reviewers have weird but different tastes. Your movie will be profitable if and only if both reviewers agree."
   ]
  },
  {
   "cell_type": "markdown",
   "metadata": {},
   "source": [
    "Answer:\n",
    "\n",
    "1. The data would be linearly separable, and we would be able to correctly classify the data.\n",
    "2. The dataset is not linearly separable. When both reviewers give over, or under the scores, it is classified as non-profitable. Meaning, that the we could \"circle\" the scores that are profitable, but not use a binary classifier. \n",
    "3. In this case the profitable would be, if and only if both agree on the same score. This would make profitable on a straight line. This is again not possible to classify with the binary classifier. "
   ]
  },
  {
   "cell_type": "markdown",
   "metadata": {},
   "source": [
    "## Part 2: Implementing the Perceptron Classifier"
   ]
  },
  {
   "cell_type": "markdown",
   "metadata": {},
   "source": [
    "### Exercise V\n",
    "We will implement the perceptron classifier. We will implement it as a class similarly to how we implemented the *k*NN-classifier last week. You should implement the two methods `fit` and `predict`. You don't need an `__init__` method. You may include other methods if you find them convenient.\n",
    "\n",
    "The main part of the perceptron classifier is the `fit` method that trains the perceptron.\n",
    "`eta` is the learning rate.\n",
    "One `epoch` is a run through all the training data.\n",
    "We have set the default to one epoch, but you might need more.\n",
    "Remember to add the bias to the data."
   ]
  },
  {
   "cell_type": "code",
   "execution_count": 66,
   "metadata": {},
   "outputs": [],
   "source": [
    "class PyClassifier():\n",
    "    \"\"\"Common methods to all Python classifiers --- if any\n",
    "    \n",
    "    Nothing here yet\"\"\"\n",
    "\n",
    "    def h_step(self, val: float) -> int:\n",
    "        if(val >= 0):\n",
    "            return 1\n",
    "        return 0"
   ]
  },
  {
   "cell_type": "code",
   "execution_count": 67,
   "metadata": {},
   "outputs": [],
   "source": [
    "import random \n",
    "class PyPerClassifier(PyClassifier):\n",
    "    \"\"\"Simple perceptron python classifier\"\"\"\n",
    "    \n",
    "    def fit(self, X_train, y_train, eta=1, epochs=1, until_halt=False, bias=None):\n",
    "        \"\"\"Train the self.weights on the training data with learning\n",
    "        rate eta, running epochs many epochs\"\"\"\n",
    "        if bias is None:\n",
    "            self.bias = random.random()\n",
    "        else:\n",
    "            self.bias = bias\n",
    "\n",
    "        self.weights = [random.random() for _ in range(2)]\n",
    "\n",
    "        # Check if train until halt option is set\n",
    "        if not until_halt:\n",
    "            # Train for each epoch\n",
    "            for _ in range(epochs):\n",
    "                # Go through data set\n",
    "                for (x, y) in zip(X_train,y_train):\n",
    "                    target = y\n",
    "                    guess = self.predict(x)\n",
    "\n",
    "                    # Check if we need to change the weights\n",
    "                    if guess != target:\n",
    "                        # Update the weights and bias\n",
    "                        for i in range(len(self.weights)):\n",
    "                            # Update weights using the perceptron rule\n",
    "                            self.weights[i] += eta * (target - guess) * x[i]\n",
    "                        # Update the bias\n",
    "                        self.bias += eta * (target - guess)\n",
    "\n",
    "        else:\n",
    "            epoch_count = 0\n",
    "            while(True):\n",
    "                # Go through data set\n",
    "                epoch_count += 1\n",
    "                has_updates = False\n",
    "                for (x, y) in zip(X_train,y_train):\n",
    "                    target = y\n",
    "                    guess = self.predict(x)\n",
    "\n",
    "                    # Check if we need to change the weights\n",
    "                    if guess != target:\n",
    "                        # Update the weights and bias\n",
    "                        for i in range(len(self.weights)):\n",
    "                            # Update weights using the perceptron rule\n",
    "                            self.weights[i] += eta * (target - guess) * x[i]\n",
    "                        # Update the bias\n",
    "                        self.bias += eta * (target - guess)\n",
    "                        has_updates = True\n",
    "                \n",
    "                if not has_updates:\n",
    "                    break\n",
    "\n",
    "\n",
    "            # Print model epoch count \n",
    "            print(f\"Model trained after {epoch_count} epochs\")\n",
    "\n",
    "    def print_model(self):\n",
    "        print(\"Perceptron Model:\")\n",
    "        print(f\"Bias: {self.bias:.4f}\")\n",
    "        for i, weight in enumerate(self.weights):\n",
    "            print(f\"Weight {i+1}: {weight:.4f}\")\n",
    "    \n",
    "    def predict(self, X):\n",
    "        \"\"\"Predict the class for the items (in the list) X\"\"\"\n",
    "        linear_output = self.bias + sum(w * xi for w, xi in zip(self.weights, X))\n",
    "        return self.h_step(linear_output)\n"
   ]
  },
  {
   "cell_type": "markdown",
   "metadata": {},
   "source": [
    "## Dataset\n",
    "We will train and test the classifier on the same sythetic dataset as we used for the *k*NN last week."
   ]
  },
  {
   "cell_type": "code",
   "execution_count": 68,
   "metadata": {},
   "outputs": [],
   "source": [
    "from sklearn.datasets import make_blobs\n",
    "import matplotlib.pyplot as plt\n",
    "X_np, y_np = make_blobs(n_samples=200, centers=[[0,0],[1,2]], \n",
    "                  n_features=2, random_state=2019)\n",
    "X1 = [(X_np[i,0], X_np[i,1]) for i in range(X_np.shape[0])]\n",
    "t1 = [y_np[i] for i in range(X_np.shape[0])]"
   ]
  },
  {
   "cell_type": "code",
   "execution_count": 69,
   "metadata": {},
   "outputs": [],
   "source": [
    "def show(X, y, marker='.'):\n",
    "    labels = set(y)\n",
    "    cl = {lab : [] for lab in labels}\n",
    "    # cl[lab] shall contain the datapoints labeled lab\n",
    "    for (a, b) in zip(X, y):\n",
    "        cl[b].append(a)\n",
    "    for lab in labels:\n",
    "        plt.plot([a[0] for a in cl[lab]], [a[1] for a in cl[lab]], \n",
    "                 marker, label=\"class {}\".format(lab))\n",
    "    plt.legend()"
   ]
  },
  {
   "cell_type": "code",
   "execution_count": 70,
   "metadata": {
    "scrolled": false
   },
   "outputs": [
    {
     "data": {
      "image/png": "[encoded data removed]",
      "text/plain": [
       "<Figure size 640x480 with 1 Axes>"
      ]
     },
     "metadata": {},
     "output_type": "display_data"
    }
   ],
   "source": [
    "show(X1, t1)"
   ]
  },
  {
   "cell_type": "code",
   "execution_count": 71,
   "metadata": {},
   "outputs": [],
   "source": [
    "X_np, y_np = make_blobs(n_samples=200, centers=[[0,0],[1,2]], \n",
    "                  n_features=2, random_state=2020)\n",
    "X2 = [(X_np[i,0], X_np[i,1]) for i in range(X_np.shape[0])]\n",
    "t2 = [y_np[i] for i in range(X_np.shape[0])]"
   ]
  },
  {
   "cell_type": "markdown",
   "metadata": {},
   "source": [
    "### Exercise VI\n",
    "Train PyPerClassifier on  X1, t1 and test on X2, t2 as with the *k*NN-classifier. Try various numbers of epochs and see whether it makes a difference.\n",
    "\n",
    "Is X2, t2 linearly separable?\n",
    "\n",
    "How does the results compare to the *k*NN classifier from last week?"
   ]
  },
  {
   "cell_type": "code",
   "execution_count": 72,
   "metadata": {},
   "outputs": [
    {
     "name": "stdout",
     "output_type": "stream",
     "text": [
      "Test Accuracy: 82.50%\n"
     ]
    }
   ],
   "source": [
    "# New perceptron classifier\n",
    "perceptron = PyPerClassifier()\n",
    "\n",
    "perceptron.fit(X_train=X1, y_train=t1, eta=1,epochs=1)\n",
    "\n",
    "# Test method\n",
    "\n",
    "def test_accuracy(model, X_test, y_test):\n",
    "    \"\"\"Test the perceptron accuracy on the test set X_test and y_test.\"\"\"\n",
    "    correct_predictions = 0\n",
    "    total_samples = len(y_test)\n",
    "    \n",
    "    for x, true_label in zip(X_test, y_test):\n",
    "        predicted_label = model.predict(x)\n",
    "        if predicted_label == true_label:\n",
    "            correct_predictions += 1\n",
    "    \n",
    "    accuracy = correct_predictions / total_samples\n",
    "    return accuracy\n",
    "\n",
    "\n",
    "# Test accuracy on X2, T2\n",
    "accuracy = test_accuracy(perceptron, X2, t2)\n",
    "print(f\"Test Accuracy: {accuracy * 100:.2f}%\")"
   ]
  },
  {
   "cell_type": "markdown",
   "metadata": {},
   "source": [
    "### Exercise VII: Termination and Weights\n",
    "\n",
    "- Modify the *fit*-method of the classifier such that training halts when there are no more updates, and it is possible to inspect how many epochs it took.\n",
    "- Run this on the five points film critics dataset. How many epochs does it take to reach completion?\n",
    "- What are the final weights? Can you plot the decision boundary that corresponds to these weights together with the data set?"
   ]
  },
  {
   "cell_type": "code",
   "execution_count": 73,
   "metadata": {},
   "outputs": [
    {
     "name": "stdout",
     "output_type": "stream",
     "text": [
      "Model trained after 8 epochs\n",
      "Perceptron Model:\n",
      "Bias: -5.0000\n",
      "Weight 1: 3.7196\n",
      "Weight 2: -1.1327\n"
     ]
    }
   ],
   "source": [
    "# Run until halts with bias = -1\n",
    "perceptron = PyPerClassifier()\n",
    "perceptron.fit(X_train=X3, y_train=t3, until_halt=True, bias=-1)\n",
    "\n",
    "# Test accuracy on itself\n",
    "test_accuracy(perceptron, X3, t3)\n",
    "\n",
    "# Print model\n",
    "perceptron.print_model()"
   ]
  },
  {
   "cell_type": "code",
   "execution_count": 74,
   "metadata": {},
   "outputs": [
    {
     "data": {
      "image/png": "[encoded data removed]",
      "text/plain": [
       "<Figure size 640x480 with 1 Axes>"
      ]
     },
     "metadata": {},
     "output_type": "display_data"
    }
   ],
   "source": [
    "import numpy as np\n",
    "\n",
    "# Plotting the model linear boundary \n",
    "bias = -10\n",
    "w1 = 8.1407\n",
    "w2 = -2.6934\n",
    "\n",
    "# Plotting X3 data points colored with their class from t3 \n",
    "# Convert X3 into separate lists for easier plotting\n",
    "X1_vals = [x[0] for x in X3]  # Alice's values (x1)\n",
    "X2_vals = [x[1] for x in X3]  # Bob's values (x2)\n",
    "\n",
    "# Create a scatter plot of the points, colored by class\n",
    "plt.scatter(X1_vals, X2_vals, c=t3, cmap='bwr', edgecolor='k', s=100)\n",
    "plt.xlabel('Alice')\n",
    "plt.ylabel('Bob')\n",
    "\n",
    "# Plot the decision boundary\n",
    "# Create x values for the decision boundary line\n",
    "x_vals = np.linspace(min(X1_vals) - 1, max(X1_vals) + 1, 100)\n",
    "\n",
    "# Compute the corresponding y values (x2 values) for the decision boundary\n",
    "# Using the equation x2 = -(w1/w2) * x1 - (bias/w2)\n",
    "y_vals = bias + w1*x_vals + w2*x_vals\n",
    "\n",
    "# Plot the decision boundary line\n",
    "plt.plot(x_vals, y_vals, 'g-', label='Decision Boundary')\n",
    "\n",
    "# Add a legend\n",
    "plt.legend()\n",
    "\n",
    "# Show the plot\n",
    "plt.show()\n"
   ]
  }
 ],
 "metadata": {
  "kernelspec": {
   "display_name": "Python 3 (ipykernel)",
   "language": "python",
   "name": "python3"
  },
  "language_info": {
   "codemirror_mode": {
    "name": "ipython",
    "version": 3
   },
   "file_extension": ".py",
   "mimetype": "text/x-python",
   "name": "python",
   "nbconvert_exporter": "python",
   "pygments_lexer": "ipython3",
   "version": "3.10.12"
  }
 },
 "nbformat": 4,
 "nbformat_minor": 2
}
